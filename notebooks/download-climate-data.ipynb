{
 "cells": [
  {
   "cell_type": "markdown",
   "id": "b4f76f2b",
   "metadata": {},
   "source": [
    "# 🔧 Inicialización del entorno y estructura de carpetas\n",
    "\n",
    "Esta celda configura el entorno base del proyecto:\n",
    "\n",
    "- Añade la ruta raíz del proyecto a `sys.path`\n",
    "- Instala los paquetes desde `requirements.txt` (si existe)\n",
    "- Crea automáticamente las carpetas necesarias para organizar los datos:\n",
    "  - `data/raw/[fuente]`\n",
    "  - `data/interim/[fuente]`\n",
    "  - `data/processed/[fuente]`\n",
    "\n",
    "Estas rutas están organizadas por fuente de datos (CHIRPS, Copernicus, GEE(Google Earth Engine)) y se usarán durante todo el flujo.\n"
   ]
  },
  {
   "cell_type": "code",
   "execution_count": 1,
   "id": "b188dc37",
   "metadata": {},
   "outputs": [
    {
     "name": "stdout",
     "output_type": "stream",
     "text": [
      "Ruta base del proyecto agregada a sys.path: D:\\OneDrive - CGIAR\\Desktop\\climate_data_downloader\n",
      "📁 Carpeta creada/verificada: D:\\OneDrive - CGIAR\\Desktop\\climate_data_downloader\\data\\raw\\chirps\n",
      "📁 Carpeta creada/verificada: D:\\OneDrive - CGIAR\\Desktop\\climate_data_downloader\\data\\raw\\copernicus\n",
      "📁 Carpeta creada/verificada: D:\\OneDrive - CGIAR\\Desktop\\climate_data_downloader\\data\\raw\\gee\n",
      "📁 Carpeta creada/verificada: D:\\OneDrive - CGIAR\\Desktop\\climate_data_downloader\\data\\interim\\chirps\n",
      "📁 Carpeta creada/verificada: D:\\OneDrive - CGIAR\\Desktop\\climate_data_downloader\\data\\interim\\copernicus\n",
      "📁 Carpeta creada/verificada: D:\\OneDrive - CGIAR\\Desktop\\climate_data_downloader\\data\\interim\\gee\n",
      "📁 Carpeta creada/verificada: D:\\OneDrive - CGIAR\\Desktop\\climate_data_downloader\\data\\processed\\chirps\n",
      "📁 Carpeta creada/verificada: D:\\OneDrive - CGIAR\\Desktop\\climate_data_downloader\\data\\processed\\copernicus\n",
      "📁 Carpeta creada/verificada: D:\\OneDrive - CGIAR\\Desktop\\climate_data_downloader\\data\\processed\\gee\n",
      "📦 Instalando dependencias desde: D:\\OneDrive - CGIAR\\Desktop\\climate_data_downloader\\requirements.txt\n"
     ]
    }
   ],
   "source": [
    "import subprocess\n",
    "import sys\n",
    "from pathlib import Path\n",
    "from datetime import date, timedelta\n",
    "\n",
    "# Ruta base: carpeta raíz del proyecto (2 niveles arriba del notebook)\n",
    "ruta_base = Path.cwd().parent.resolve()\n",
    "sys.path.append(str(ruta_base))\n",
    "\n",
    "# Confirmar que el path es correcto\n",
    "print(f\"Ruta base del proyecto agregada a sys.path: {ruta_base}\")\n",
    "\n",
    "# Crear subcarpetas organizadas por fuente\n",
    "fuentes = [\"chirps\", \"copernicus\", \"gee\"]\n",
    "etapas = [\"raw\", \"interim\", \"processed\"]\n",
    "\n",
    "for etapa in etapas:\n",
    "    for fuente in fuentes:\n",
    "        carpeta = ruta_base / \"data\" / etapa / fuente\n",
    "        carpeta.mkdir(parents=True, exist_ok=True)\n",
    "        print(f\"📁 Carpeta creada/verificada: {carpeta}\")\n",
    "\n",
    "# Definir rutas útiles para todo el notebook\n",
    "RAW_CHIRPS = ruta_base / \"data\" / \"raw\" / \"chirps\"\n",
    "RAW_COPERNICUS = ruta_base / \"data\" / \"raw\" / \"copernicus\"\n",
    "RAW_GEE = ruta_base / \"data\" / \"raw\" / \"gee\"\n",
    "\n",
    "INTERIM_CHIRPS = ruta_base / \"data\" / \"interim\" / \"chirps\"\n",
    "INTERIM_COPERNICUS = ruta_base / \"data\" / \"interim\" / \"copernicus\"\n",
    "INTERIM_GEE = ruta_base / \"data\" / \"interim\" / \"gee\"\n",
    "\n",
    "PROCESSED_CHIRPS = ruta_base / \"data\" / \"processed\" / \"chirps\"\n",
    "PROCESSED_COPERNICUS = ruta_base / \"data\" / \"processed\" / \"copernicus\"\n",
    "PROCESSED_GEE = ruta_base / \"data\" / \"processed\" / \"gee\"\n",
    "\n",
    "# Instalación de requirements \n",
    "req_path = ruta_base / \"requirements.txt\"\n",
    "if req_path.exists():\n",
    "    print(f\"📦 Instalando dependencias desde: {req_path}\")\n",
    "    subprocess.check_call([sys.executable, \"-m\", \"pip\", \"install\", \"-r\", str(req_path)])\n",
    "else:\n",
    "    print(\"⚠️ No se encontró requirements.txt. Asegúrate de tener las dependencias instaladas.\")\n"
   ]
  },
  {
   "cell_type": "markdown",
   "id": "452a3831",
   "metadata": {},
   "source": [
    "# 🧠 Carga de funciones del proyecto\n",
    "\n",
    "En esta sección se importan todas las funciones necesarias que han sido previamente desarrolladas en los scripts del proyecto:\n",
    "\n",
    "- 📥 `download.chirps`  \n",
    "  Funciones de descarga y validación de datos CHIRPS.\n",
    "\n",
    "- ☀️ `download.copernicus`  \n",
    "  Funciones para descargar datos climáticos desde Copernicus (temperatura, radiación, humedad, etc.).\n",
    "\n",
    "- 🔧 `download.utils`  \n",
    "  Funciones utilitarias como:\n",
    "  - Verificación de conexión a Internet\n",
    "  - Validación de archivos descargados\n",
    "  - Registro de logs\n",
    "\n",
    "- 🛠 `download.process`  \n",
    "  Funciones de procesamiento espacial de los datos, incluyendo:\n",
    "  - `descomprimir_archivo_gz()` → descomprime archivos `.gz` en formatos `.tif` o `.nc`\n",
    "  - `recortar_raster()` → recorta un raster con shapefile o bounding box\n",
    "\n",
    "Estas funciones encapsulan toda la lógica del pipeline para mantener el notebook limpio, modular y reutilizable.\n"
   ]
  },
  {
   "cell_type": "code",
   "execution_count": 2,
   "id": "9a5790e7",
   "metadata": {},
   "outputs": [],
   "source": [
    "# Importación paquetes requirements\n",
    "import geopandas as gpd\n",
    "from tqdm import tqdm\n",
    "\n",
    "# Importación de funciones de descarga y procesamiento\n",
    "from download.chirps import descargar_chirps\n",
    "from download.process import descomprimir_archivo_gz, recortar_raster, descomprimir_archivo_generico\n",
    "from download.copernicus import download_variable, download_simple_variable, download_humidity, ensure_cdsapi_config\n",
    "from download.utils import log_event"
   ]
  },
  {
   "cell_type": "markdown",
   "id": "113c71fa",
   "metadata": {},
   "source": [
    "## 📍 Área de interés y configuración global de fechas\n",
    "\n",
    "En esta sección se define la configuración **base** que será utilizada por todas las funciones de descarga a lo largo del notebook:\n",
    "\n",
    "- **Área de interés (AOI)**:  \n",
    "  Se carga el shapefile del departamento **Valle del Cauca**, ubicado en `data/auxiliary/shapefiles/valle/valle.shp`.  \n",
    "  A partir de este archivo se calcula automáticamente el **bounding box** necesario para las consultas a la API de Copernicus.\n",
    "\n",
    "- **Rango de fechas**:  \n",
    "  Se establece un rango temporal definido por `fecha_inicio` y `fecha_fin`, con un intervalo diario.  \n",
    "  Este rango será reutilizado para construir las fechas de descarga tanto para **CHIRPS** como para las variables de **Copernicus**.\n",
    "\n",
    "Estas variables globales permiten mantener un flujo de trabajo coherente y evitar duplicación de parámetros en cada sección del notebook.\n"
   ]
  },
  {
   "cell_type": "code",
   "execution_count": 3,
   "id": "74a09664",
   "metadata": {},
   "outputs": [],
   "source": [
    "# 📍 Área de interés\n",
    "shapefile_valle = ruta_base / \"data\" / \"auxiliary\" / \"shapefiles\" / \"valle\" / \"valle.shp\"\n",
    "gdf_valle = gpd.read_file(shapefile_valle)\n",
    "gdf_valle_bounds = gdf_valle.total_bounds  # [xmin, ymin, xmax, ymax]\n",
    "gdf_valle_bbox = [gdf_valle_bounds[3], gdf_valle_bounds[0], gdf_valle_bounds[1], gdf_valle_bounds[2]]  # [N, W, S, E]\n",
    "\n",
    "# 📆 Rango de fechas: 2014-01-01 hasta 2024-12-31\n",
    "fecha_inicio = date(2014, 1, 1)\n",
    "fecha_fin = date(2014, 2, 5)\n"
   ]
  },
  {
   "cell_type": "markdown",
   "id": "809a3075",
   "metadata": {},
   "source": [
    "# 🌧️ Descarga de datos CHIRPS\n",
    "\n",
    "En esta sección se realiza la descarga de datos de precipitación del dataset **CHIRPS** (Climate Hazards Group InfraRed Precipitation with Station data).\n",
    "\n",
    "CHIRPS proporciona datos satelitales de precipitación diarios con cobertura global, ideales para estudios climáticos y agrícolas.\n",
    "\n",
    "### 🧩 Detalles del flujo:\n",
    "\n",
    "- Se define un rango de fechas deseado.\n",
    "- Se construye automáticamente la URL de descarga para cada archivo `.tif.gz`\n",
    "- Se descarga cada archivo en la carpeta `data/raw/chirps/`\n",
    "- Luego se descomprime y se guardad en la carpeta `data/interim/chirps/` \n",
    "- El resultado recortado se guarda en `data/processed/chirps/`\n",
    "\n",
    "El proceso incluye verificación de archivos, control de errores, conexión a Internet y logs de eventos.\n"
   ]
  },
  {
   "cell_type": "code",
   "execution_count": 7,
   "id": "af1ffcf6",
   "metadata": {},
   "outputs": [
    {
     "name": "stdout",
     "output_type": "stream",
     "text": [
      "\n",
      "📅 Fecha: 2014-01-01\n",
      "⬇️ URL: https://data.chc.ucsb.edu/products/CHIRPS-2.0/global_daily/tifs/p05/2014/chirps-v2.0.2014.01.01.tif.gz\n",
      "📥 RAW:        D:\\OneDrive - CGIAR\\Desktop\\climate_data_downloader\\data\\raw\\chirps\\chirps-v2.0.2014.01.01.tif.gz\n",
      "🗜️ INTERIM:   D:\\OneDrive - CGIAR\\Desktop\\climate_data_downloader\\data\\interim\\chirps\\chirps-v2.0.2014.01.01.tif\n",
      "📦 PROCESSED:    D:\\OneDrive - CGIAR\\Desktop\\climate_data_downloader\\data\\processed\\chirps\\valle_2014-01-01.tif\n"
     ]
    },
    {
     "name": "stderr",
     "output_type": "stream",
     "text": [
      "Descargando chirps-v2.0.2014.01.01.tif.gz: 100%|██████████| 2.71M/2.71M [00:00<00:00, 3.38MB/s]\n"
     ]
    },
    {
     "name": "stdout",
     "output_type": "stream",
     "text": [
      "🗜️ Archivo GZIP descomprimido: chirps-v2.0.2014.01.01.tif\n",
      "Raster recortado guardado en: D:\\OneDrive - CGIAR\\Desktop\\climate_data_downloader\\data\\processed\\chirps\\valle_2014-01-01.tif\n",
      "\n",
      "📅 Fecha: 2014-01-02\n",
      "⬇️ URL: https://data.chc.ucsb.edu/products/CHIRPS-2.0/global_daily/tifs/p05/2014/chirps-v2.0.2014.01.02.tif.gz\n",
      "📥 RAW:        D:\\OneDrive - CGIAR\\Desktop\\climate_data_downloader\\data\\raw\\chirps\\chirps-v2.0.2014.01.02.tif.gz\n",
      "🗜️ INTERIM:   D:\\OneDrive - CGIAR\\Desktop\\climate_data_downloader\\data\\interim\\chirps\\chirps-v2.0.2014.01.02.tif\n",
      "📦 PROCESSED:    D:\\OneDrive - CGIAR\\Desktop\\climate_data_downloader\\data\\processed\\chirps\\valle_2014-01-02.tif\n"
     ]
    },
    {
     "name": "stderr",
     "output_type": "stream",
     "text": [
      "Descargando chirps-v2.0.2014.01.02.tif.gz: 100%|██████████| 2.53M/2.53M [00:00<00:00, 3.07MB/s]\n"
     ]
    },
    {
     "name": "stdout",
     "output_type": "stream",
     "text": [
      "🗜️ Archivo GZIP descomprimido: chirps-v2.0.2014.01.02.tif\n",
      "Raster recortado guardado en: D:\\OneDrive - CGIAR\\Desktop\\climate_data_downloader\\data\\processed\\chirps\\valle_2014-01-02.tif\n",
      "\n",
      "📅 Fecha: 2014-01-03\n",
      "⬇️ URL: https://data.chc.ucsb.edu/products/CHIRPS-2.0/global_daily/tifs/p05/2014/chirps-v2.0.2014.01.03.tif.gz\n",
      "📥 RAW:        D:\\OneDrive - CGIAR\\Desktop\\climate_data_downloader\\data\\raw\\chirps\\chirps-v2.0.2014.01.03.tif.gz\n",
      "🗜️ INTERIM:   D:\\OneDrive - CGIAR\\Desktop\\climate_data_downloader\\data\\interim\\chirps\\chirps-v2.0.2014.01.03.tif\n",
      "📦 PROCESSED:    D:\\OneDrive - CGIAR\\Desktop\\climate_data_downloader\\data\\processed\\chirps\\valle_2014-01-03.tif\n"
     ]
    },
    {
     "name": "stderr",
     "output_type": "stream",
     "text": [
      "Descargando chirps-v2.0.2014.01.03.tif.gz: 100%|██████████| 2.45M/2.45M [00:00<00:00, 2.96MB/s]\n"
     ]
    },
    {
     "name": "stdout",
     "output_type": "stream",
     "text": [
      "🗜️ Archivo GZIP descomprimido: chirps-v2.0.2014.01.03.tif\n",
      "Raster recortado guardado en: D:\\OneDrive - CGIAR\\Desktop\\climate_data_downloader\\data\\processed\\chirps\\valle_2014-01-03.tif\n",
      "\n",
      "📅 Fecha: 2014-01-04\n",
      "⬇️ URL: https://data.chc.ucsb.edu/products/CHIRPS-2.0/global_daily/tifs/p05/2014/chirps-v2.0.2014.01.04.tif.gz\n",
      "📥 RAW:        D:\\OneDrive - CGIAR\\Desktop\\climate_data_downloader\\data\\raw\\chirps\\chirps-v2.0.2014.01.04.tif.gz\n",
      "🗜️ INTERIM:   D:\\OneDrive - CGIAR\\Desktop\\climate_data_downloader\\data\\interim\\chirps\\chirps-v2.0.2014.01.04.tif\n",
      "📦 PROCESSED:    D:\\OneDrive - CGIAR\\Desktop\\climate_data_downloader\\data\\processed\\chirps\\valle_2014-01-04.tif\n"
     ]
    },
    {
     "name": "stderr",
     "output_type": "stream",
     "text": [
      "Descargando chirps-v2.0.2014.01.04.tif.gz: 100%|██████████| 2.91M/2.91M [00:00<00:00, 3.57MB/s]\n"
     ]
    },
    {
     "name": "stdout",
     "output_type": "stream",
     "text": [
      "🗜️ Archivo GZIP descomprimido: chirps-v2.0.2014.01.04.tif\n",
      "Raster recortado guardado en: D:\\OneDrive - CGIAR\\Desktop\\climate_data_downloader\\data\\processed\\chirps\\valle_2014-01-04.tif\n",
      "\n",
      "📅 Fecha: 2014-01-05\n",
      "⬇️ URL: https://data.chc.ucsb.edu/products/CHIRPS-2.0/global_daily/tifs/p05/2014/chirps-v2.0.2014.01.05.tif.gz\n",
      "📥 RAW:        D:\\OneDrive - CGIAR\\Desktop\\climate_data_downloader\\data\\raw\\chirps\\chirps-v2.0.2014.01.05.tif.gz\n",
      "🗜️ INTERIM:   D:\\OneDrive - CGIAR\\Desktop\\climate_data_downloader\\data\\interim\\chirps\\chirps-v2.0.2014.01.05.tif\n",
      "📦 PROCESSED:    D:\\OneDrive - CGIAR\\Desktop\\climate_data_downloader\\data\\processed\\chirps\\valle_2014-01-05.tif\n"
     ]
    },
    {
     "name": "stderr",
     "output_type": "stream",
     "text": [
      "Descargando chirps-v2.0.2014.01.05.tif.gz: 100%|██████████| 2.88M/2.88M [00:00<00:00, 3.24MB/s]\n"
     ]
    },
    {
     "name": "stdout",
     "output_type": "stream",
     "text": [
      "🗜️ Archivo GZIP descomprimido: chirps-v2.0.2014.01.05.tif\n",
      "Raster recortado guardado en: D:\\OneDrive - CGIAR\\Desktop\\climate_data_downloader\\data\\processed\\chirps\\valle_2014-01-05.tif\n",
      "\n",
      "📅 Fecha: 2014-01-06\n",
      "⬇️ URL: https://data.chc.ucsb.edu/products/CHIRPS-2.0/global_daily/tifs/p05/2014/chirps-v2.0.2014.01.06.tif.gz\n",
      "📥 RAW:        D:\\OneDrive - CGIAR\\Desktop\\climate_data_downloader\\data\\raw\\chirps\\chirps-v2.0.2014.01.06.tif.gz\n",
      "🗜️ INTERIM:   D:\\OneDrive - CGIAR\\Desktop\\climate_data_downloader\\data\\interim\\chirps\\chirps-v2.0.2014.01.06.tif\n",
      "📦 PROCESSED:    D:\\OneDrive - CGIAR\\Desktop\\climate_data_downloader\\data\\processed\\chirps\\valle_2014-01-06.tif\n"
     ]
    },
    {
     "name": "stderr",
     "output_type": "stream",
     "text": [
      "Descargando chirps-v2.0.2014.01.06.tif.gz: 100%|██████████| 2.84M/2.84M [00:00<00:00, 3.04MB/s]\n"
     ]
    },
    {
     "name": "stdout",
     "output_type": "stream",
     "text": [
      "🗜️ Archivo GZIP descomprimido: chirps-v2.0.2014.01.06.tif\n",
      "Raster recortado guardado en: D:\\OneDrive - CGIAR\\Desktop\\climate_data_downloader\\data\\processed\\chirps\\valle_2014-01-06.tif\n",
      "\n",
      "📅 Fecha: 2014-01-07\n",
      "⬇️ URL: https://data.chc.ucsb.edu/products/CHIRPS-2.0/global_daily/tifs/p05/2014/chirps-v2.0.2014.01.07.tif.gz\n",
      "📥 RAW:        D:\\OneDrive - CGIAR\\Desktop\\climate_data_downloader\\data\\raw\\chirps\\chirps-v2.0.2014.01.07.tif.gz\n",
      "🗜️ INTERIM:   D:\\OneDrive - CGIAR\\Desktop\\climate_data_downloader\\data\\interim\\chirps\\chirps-v2.0.2014.01.07.tif\n",
      "📦 PROCESSED:    D:\\OneDrive - CGIAR\\Desktop\\climate_data_downloader\\data\\processed\\chirps\\valle_2014-01-07.tif\n"
     ]
    },
    {
     "name": "stderr",
     "output_type": "stream",
     "text": [
      "Descargando chirps-v2.0.2014.01.07.tif.gz: 100%|██████████| 2.93M/2.93M [00:00<00:00, 3.57MB/s]\n"
     ]
    },
    {
     "name": "stdout",
     "output_type": "stream",
     "text": [
      "🗜️ Archivo GZIP descomprimido: chirps-v2.0.2014.01.07.tif\n",
      "Raster recortado guardado en: D:\\OneDrive - CGIAR\\Desktop\\climate_data_downloader\\data\\processed\\chirps\\valle_2014-01-07.tif\n",
      "\n",
      "📅 Fecha: 2014-01-08\n",
      "⬇️ URL: https://data.chc.ucsb.edu/products/CHIRPS-2.0/global_daily/tifs/p05/2014/chirps-v2.0.2014.01.08.tif.gz\n",
      "📥 RAW:        D:\\OneDrive - CGIAR\\Desktop\\climate_data_downloader\\data\\raw\\chirps\\chirps-v2.0.2014.01.08.tif.gz\n",
      "🗜️ INTERIM:   D:\\OneDrive - CGIAR\\Desktop\\climate_data_downloader\\data\\interim\\chirps\\chirps-v2.0.2014.01.08.tif\n",
      "📦 PROCESSED:    D:\\OneDrive - CGIAR\\Desktop\\climate_data_downloader\\data\\processed\\chirps\\valle_2014-01-08.tif\n"
     ]
    },
    {
     "name": "stderr",
     "output_type": "stream",
     "text": [
      "Descargando chirps-v2.0.2014.01.08.tif.gz: 100%|██████████| 2.86M/2.86M [00:00<00:00, 3.37MB/s]\n"
     ]
    },
    {
     "name": "stdout",
     "output_type": "stream",
     "text": [
      "🗜️ Archivo GZIP descomprimido: chirps-v2.0.2014.01.08.tif\n",
      "Raster recortado guardado en: D:\\OneDrive - CGIAR\\Desktop\\climate_data_downloader\\data\\processed\\chirps\\valle_2014-01-08.tif\n",
      "\n",
      "📅 Fecha: 2014-01-09\n",
      "⬇️ URL: https://data.chc.ucsb.edu/products/CHIRPS-2.0/global_daily/tifs/p05/2014/chirps-v2.0.2014.01.09.tif.gz\n",
      "📥 RAW:        D:\\OneDrive - CGIAR\\Desktop\\climate_data_downloader\\data\\raw\\chirps\\chirps-v2.0.2014.01.09.tif.gz\n",
      "🗜️ INTERIM:   D:\\OneDrive - CGIAR\\Desktop\\climate_data_downloader\\data\\interim\\chirps\\chirps-v2.0.2014.01.09.tif\n",
      "📦 PROCESSED:    D:\\OneDrive - CGIAR\\Desktop\\climate_data_downloader\\data\\processed\\chirps\\valle_2014-01-09.tif\n"
     ]
    },
    {
     "name": "stderr",
     "output_type": "stream",
     "text": [
      "Descargando chirps-v2.0.2014.01.09.tif.gz: 100%|██████████| 3.18M/3.18M [00:00<00:00, 3.68MB/s]\n"
     ]
    },
    {
     "name": "stdout",
     "output_type": "stream",
     "text": [
      "🗜️ Archivo GZIP descomprimido: chirps-v2.0.2014.01.09.tif\n",
      "Raster recortado guardado en: D:\\OneDrive - CGIAR\\Desktop\\climate_data_downloader\\data\\processed\\chirps\\valle_2014-01-09.tif\n",
      "\n",
      "📅 Fecha: 2014-01-10\n",
      "⬇️ URL: https://data.chc.ucsb.edu/products/CHIRPS-2.0/global_daily/tifs/p05/2014/chirps-v2.0.2014.01.10.tif.gz\n",
      "📥 RAW:        D:\\OneDrive - CGIAR\\Desktop\\climate_data_downloader\\data\\raw\\chirps\\chirps-v2.0.2014.01.10.tif.gz\n",
      "🗜️ INTERIM:   D:\\OneDrive - CGIAR\\Desktop\\climate_data_downloader\\data\\interim\\chirps\\chirps-v2.0.2014.01.10.tif\n",
      "📦 PROCESSED:    D:\\OneDrive - CGIAR\\Desktop\\climate_data_downloader\\data\\processed\\chirps\\valle_2014-01-10.tif\n"
     ]
    },
    {
     "name": "stderr",
     "output_type": "stream",
     "text": [
      "Descargando chirps-v2.0.2014.01.10.tif.gz: 100%|██████████| 3.64M/3.64M [00:00<00:00, 3.92MB/s]\n"
     ]
    },
    {
     "name": "stdout",
     "output_type": "stream",
     "text": [
      "🗜️ Archivo GZIP descomprimido: chirps-v2.0.2014.01.10.tif\n",
      "Raster recortado guardado en: D:\\OneDrive - CGIAR\\Desktop\\climate_data_downloader\\data\\processed\\chirps\\valle_2014-01-10.tif\n",
      "\n",
      "📅 Fecha: 2014-01-11\n",
      "⬇️ URL: https://data.chc.ucsb.edu/products/CHIRPS-2.0/global_daily/tifs/p05/2014/chirps-v2.0.2014.01.11.tif.gz\n",
      "📥 RAW:        D:\\OneDrive - CGIAR\\Desktop\\climate_data_downloader\\data\\raw\\chirps\\chirps-v2.0.2014.01.11.tif.gz\n",
      "🗜️ INTERIM:   D:\\OneDrive - CGIAR\\Desktop\\climate_data_downloader\\data\\interim\\chirps\\chirps-v2.0.2014.01.11.tif\n",
      "📦 PROCESSED:    D:\\OneDrive - CGIAR\\Desktop\\climate_data_downloader\\data\\processed\\chirps\\valle_2014-01-11.tif\n"
     ]
    },
    {
     "name": "stderr",
     "output_type": "stream",
     "text": [
      "Descargando chirps-v2.0.2014.01.11.tif.gz: 100%|██████████| 4.04M/4.04M [00:01<00:00, 4.20MB/s]\n"
     ]
    },
    {
     "name": "stdout",
     "output_type": "stream",
     "text": [
      "🗜️ Archivo GZIP descomprimido: chirps-v2.0.2014.01.11.tif\n",
      "Raster recortado guardado en: D:\\OneDrive - CGIAR\\Desktop\\climate_data_downloader\\data\\processed\\chirps\\valle_2014-01-11.tif\n",
      "\n",
      "📅 Fecha: 2014-01-12\n",
      "⬇️ URL: https://data.chc.ucsb.edu/products/CHIRPS-2.0/global_daily/tifs/p05/2014/chirps-v2.0.2014.01.12.tif.gz\n",
      "📥 RAW:        D:\\OneDrive - CGIAR\\Desktop\\climate_data_downloader\\data\\raw\\chirps\\chirps-v2.0.2014.01.12.tif.gz\n",
      "🗜️ INTERIM:   D:\\OneDrive - CGIAR\\Desktop\\climate_data_downloader\\data\\interim\\chirps\\chirps-v2.0.2014.01.12.tif\n",
      "📦 PROCESSED:    D:\\OneDrive - CGIAR\\Desktop\\climate_data_downloader\\data\\processed\\chirps\\valle_2014-01-12.tif\n"
     ]
    },
    {
     "name": "stderr",
     "output_type": "stream",
     "text": [
      "Descargando chirps-v2.0.2014.01.12.tif.gz: 100%|██████████| 3.57M/3.57M [00:01<00:00, 3.61MB/s]\n"
     ]
    },
    {
     "name": "stdout",
     "output_type": "stream",
     "text": [
      "🗜️ Archivo GZIP descomprimido: chirps-v2.0.2014.01.12.tif\n",
      "Raster recortado guardado en: D:\\OneDrive - CGIAR\\Desktop\\climate_data_downloader\\data\\processed\\chirps\\valle_2014-01-12.tif\n",
      "\n",
      "📅 Fecha: 2014-01-13\n",
      "⬇️ URL: https://data.chc.ucsb.edu/products/CHIRPS-2.0/global_daily/tifs/p05/2014/chirps-v2.0.2014.01.13.tif.gz\n",
      "📥 RAW:        D:\\OneDrive - CGIAR\\Desktop\\climate_data_downloader\\data\\raw\\chirps\\chirps-v2.0.2014.01.13.tif.gz\n",
      "🗜️ INTERIM:   D:\\OneDrive - CGIAR\\Desktop\\climate_data_downloader\\data\\interim\\chirps\\chirps-v2.0.2014.01.13.tif\n",
      "📦 PROCESSED:    D:\\OneDrive - CGIAR\\Desktop\\climate_data_downloader\\data\\processed\\chirps\\valle_2014-01-13.tif\n"
     ]
    },
    {
     "name": "stderr",
     "output_type": "stream",
     "text": [
      "Descargando chirps-v2.0.2014.01.13.tif.gz: 100%|██████████| 3.20M/3.20M [00:01<00:00, 3.34MB/s]\n"
     ]
    },
    {
     "name": "stdout",
     "output_type": "stream",
     "text": [
      "🗜️ Archivo GZIP descomprimido: chirps-v2.0.2014.01.13.tif\n",
      "Raster recortado guardado en: D:\\OneDrive - CGIAR\\Desktop\\climate_data_downloader\\data\\processed\\chirps\\valle_2014-01-13.tif\n",
      "\n",
      "📅 Fecha: 2014-01-14\n",
      "⬇️ URL: https://data.chc.ucsb.edu/products/CHIRPS-2.0/global_daily/tifs/p05/2014/chirps-v2.0.2014.01.14.tif.gz\n",
      "📥 RAW:        D:\\OneDrive - CGIAR\\Desktop\\climate_data_downloader\\data\\raw\\chirps\\chirps-v2.0.2014.01.14.tif.gz\n",
      "🗜️ INTERIM:   D:\\OneDrive - CGIAR\\Desktop\\climate_data_downloader\\data\\interim\\chirps\\chirps-v2.0.2014.01.14.tif\n",
      "📦 PROCESSED:    D:\\OneDrive - CGIAR\\Desktop\\climate_data_downloader\\data\\processed\\chirps\\valle_2014-01-14.tif\n"
     ]
    },
    {
     "name": "stderr",
     "output_type": "stream",
     "text": [
      "Descargando chirps-v2.0.2014.01.14.tif.gz: 100%|██████████| 3.31M/3.31M [00:00<00:00, 4.02MB/s]\n"
     ]
    },
    {
     "name": "stdout",
     "output_type": "stream",
     "text": [
      "🗜️ Archivo GZIP descomprimido: chirps-v2.0.2014.01.14.tif\n",
      "Raster recortado guardado en: D:\\OneDrive - CGIAR\\Desktop\\climate_data_downloader\\data\\processed\\chirps\\valle_2014-01-14.tif\n",
      "\n",
      "📅 Fecha: 2014-01-15\n",
      "⬇️ URL: https://data.chc.ucsb.edu/products/CHIRPS-2.0/global_daily/tifs/p05/2014/chirps-v2.0.2014.01.15.tif.gz\n",
      "📥 RAW:        D:\\OneDrive - CGIAR\\Desktop\\climate_data_downloader\\data\\raw\\chirps\\chirps-v2.0.2014.01.15.tif.gz\n",
      "🗜️ INTERIM:   D:\\OneDrive - CGIAR\\Desktop\\climate_data_downloader\\data\\interim\\chirps\\chirps-v2.0.2014.01.15.tif\n",
      "📦 PROCESSED:    D:\\OneDrive - CGIAR\\Desktop\\climate_data_downloader\\data\\processed\\chirps\\valle_2014-01-15.tif\n"
     ]
    },
    {
     "name": "stderr",
     "output_type": "stream",
     "text": [
      "Descargando chirps-v2.0.2014.01.15.tif.gz: 100%|██████████| 3.42M/3.42M [00:02<00:00, 1.56MB/s]\n"
     ]
    },
    {
     "name": "stdout",
     "output_type": "stream",
     "text": [
      "🗜️ Archivo GZIP descomprimido: chirps-v2.0.2014.01.15.tif\n",
      "Raster recortado guardado en: D:\\OneDrive - CGIAR\\Desktop\\climate_data_downloader\\data\\processed\\chirps\\valle_2014-01-15.tif\n",
      "\n",
      "📅 Fecha: 2014-01-16\n",
      "⬇️ URL: https://data.chc.ucsb.edu/products/CHIRPS-2.0/global_daily/tifs/p05/2014/chirps-v2.0.2014.01.16.tif.gz\n",
      "📥 RAW:        D:\\OneDrive - CGIAR\\Desktop\\climate_data_downloader\\data\\raw\\chirps\\chirps-v2.0.2014.01.16.tif.gz\n",
      "🗜️ INTERIM:   D:\\OneDrive - CGIAR\\Desktop\\climate_data_downloader\\data\\interim\\chirps\\chirps-v2.0.2014.01.16.tif\n",
      "📦 PROCESSED:    D:\\OneDrive - CGIAR\\Desktop\\climate_data_downloader\\data\\processed\\chirps\\valle_2014-01-16.tif\n"
     ]
    },
    {
     "name": "stderr",
     "output_type": "stream",
     "text": [
      "Descargando chirps-v2.0.2014.01.16.tif.gz: 100%|██████████| 3.28M/3.28M [00:10<00:00, 326kB/s] \n"
     ]
    },
    {
     "name": "stdout",
     "output_type": "stream",
     "text": [
      "🗜️ Archivo GZIP descomprimido: chirps-v2.0.2014.01.16.tif\n",
      "Raster recortado guardado en: D:\\OneDrive - CGIAR\\Desktop\\climate_data_downloader\\data\\processed\\chirps\\valle_2014-01-16.tif\n",
      "\n",
      "📅 Fecha: 2014-01-17\n",
      "⬇️ URL: https://data.chc.ucsb.edu/products/CHIRPS-2.0/global_daily/tifs/p05/2014/chirps-v2.0.2014.01.17.tif.gz\n",
      "📥 RAW:        D:\\OneDrive - CGIAR\\Desktop\\climate_data_downloader\\data\\raw\\chirps\\chirps-v2.0.2014.01.17.tif.gz\n",
      "🗜️ INTERIM:   D:\\OneDrive - CGIAR\\Desktop\\climate_data_downloader\\data\\interim\\chirps\\chirps-v2.0.2014.01.17.tif\n",
      "📦 PROCESSED:    D:\\OneDrive - CGIAR\\Desktop\\climate_data_downloader\\data\\processed\\chirps\\valle_2014-01-17.tif\n"
     ]
    },
    {
     "name": "stderr",
     "output_type": "stream",
     "text": [
      "Descargando chirps-v2.0.2014.01.17.tif.gz: 100%|██████████| 3.61M/3.61M [00:01<00:00, 3.42MB/s]\n"
     ]
    },
    {
     "name": "stdout",
     "output_type": "stream",
     "text": [
      "🗜️ Archivo GZIP descomprimido: chirps-v2.0.2014.01.17.tif\n",
      "Raster recortado guardado en: D:\\OneDrive - CGIAR\\Desktop\\climate_data_downloader\\data\\processed\\chirps\\valle_2014-01-17.tif\n",
      "\n",
      "📅 Fecha: 2014-01-18\n",
      "⬇️ URL: https://data.chc.ucsb.edu/products/CHIRPS-2.0/global_daily/tifs/p05/2014/chirps-v2.0.2014.01.18.tif.gz\n",
      "📥 RAW:        D:\\OneDrive - CGIAR\\Desktop\\climate_data_downloader\\data\\raw\\chirps\\chirps-v2.0.2014.01.18.tif.gz\n",
      "🗜️ INTERIM:   D:\\OneDrive - CGIAR\\Desktop\\climate_data_downloader\\data\\interim\\chirps\\chirps-v2.0.2014.01.18.tif\n",
      "📦 PROCESSED:    D:\\OneDrive - CGIAR\\Desktop\\climate_data_downloader\\data\\processed\\chirps\\valle_2014-01-18.tif\n"
     ]
    },
    {
     "name": "stderr",
     "output_type": "stream",
     "text": [
      "Descargando chirps-v2.0.2014.01.18.tif.gz: 100%|██████████| 3.89M/3.89M [00:01<00:00, 3.25MB/s]\n"
     ]
    },
    {
     "name": "stdout",
     "output_type": "stream",
     "text": [
      "🗜️ Archivo GZIP descomprimido: chirps-v2.0.2014.01.18.tif\n",
      "Raster recortado guardado en: D:\\OneDrive - CGIAR\\Desktop\\climate_data_downloader\\data\\processed\\chirps\\valle_2014-01-18.tif\n",
      "\n",
      "📅 Fecha: 2014-01-19\n",
      "⬇️ URL: https://data.chc.ucsb.edu/products/CHIRPS-2.0/global_daily/tifs/p05/2014/chirps-v2.0.2014.01.19.tif.gz\n",
      "📥 RAW:        D:\\OneDrive - CGIAR\\Desktop\\climate_data_downloader\\data\\raw\\chirps\\chirps-v2.0.2014.01.19.tif.gz\n",
      "🗜️ INTERIM:   D:\\OneDrive - CGIAR\\Desktop\\climate_data_downloader\\data\\interim\\chirps\\chirps-v2.0.2014.01.19.tif\n",
      "📦 PROCESSED:    D:\\OneDrive - CGIAR\\Desktop\\climate_data_downloader\\data\\processed\\chirps\\valle_2014-01-19.tif\n"
     ]
    },
    {
     "name": "stderr",
     "output_type": "stream",
     "text": [
      "Descargando chirps-v2.0.2014.01.19.tif.gz: 100%|██████████| 3.70M/3.70M [00:01<00:00, 2.66MB/s]\n"
     ]
    },
    {
     "name": "stdout",
     "output_type": "stream",
     "text": [
      "🗜️ Archivo GZIP descomprimido: chirps-v2.0.2014.01.19.tif\n",
      "Raster recortado guardado en: D:\\OneDrive - CGIAR\\Desktop\\climate_data_downloader\\data\\processed\\chirps\\valle_2014-01-19.tif\n",
      "\n",
      "📅 Fecha: 2014-01-20\n",
      "⬇️ URL: https://data.chc.ucsb.edu/products/CHIRPS-2.0/global_daily/tifs/p05/2014/chirps-v2.0.2014.01.20.tif.gz\n",
      "📥 RAW:        D:\\OneDrive - CGIAR\\Desktop\\climate_data_downloader\\data\\raw\\chirps\\chirps-v2.0.2014.01.20.tif.gz\n",
      "🗜️ INTERIM:   D:\\OneDrive - CGIAR\\Desktop\\climate_data_downloader\\data\\interim\\chirps\\chirps-v2.0.2014.01.20.tif\n",
      "📦 PROCESSED:    D:\\OneDrive - CGIAR\\Desktop\\climate_data_downloader\\data\\processed\\chirps\\valle_2014-01-20.tif\n"
     ]
    },
    {
     "name": "stderr",
     "output_type": "stream",
     "text": [
      "Descargando chirps-v2.0.2014.01.20.tif.gz: 100%|██████████| 3.08M/3.08M [00:01<00:00, 1.65MB/s]\n"
     ]
    },
    {
     "name": "stdout",
     "output_type": "stream",
     "text": [
      "🗜️ Archivo GZIP descomprimido: chirps-v2.0.2014.01.20.tif\n",
      "Raster recortado guardado en: D:\\OneDrive - CGIAR\\Desktop\\climate_data_downloader\\data\\processed\\chirps\\valle_2014-01-20.tif\n",
      "\n",
      "📅 Fecha: 2014-01-21\n",
      "⬇️ URL: https://data.chc.ucsb.edu/products/CHIRPS-2.0/global_daily/tifs/p05/2014/chirps-v2.0.2014.01.21.tif.gz\n",
      "📥 RAW:        D:\\OneDrive - CGIAR\\Desktop\\climate_data_downloader\\data\\raw\\chirps\\chirps-v2.0.2014.01.21.tif.gz\n",
      "🗜️ INTERIM:   D:\\OneDrive - CGIAR\\Desktop\\climate_data_downloader\\data\\interim\\chirps\\chirps-v2.0.2014.01.21.tif\n",
      "📦 PROCESSED:    D:\\OneDrive - CGIAR\\Desktop\\climate_data_downloader\\data\\processed\\chirps\\valle_2014-01-21.tif\n"
     ]
    },
    {
     "name": "stderr",
     "output_type": "stream",
     "text": [
      "Descargando chirps-v2.0.2014.01.21.tif.gz: 100%|██████████| 3.00M/3.00M [00:01<00:00, 1.60MB/s]\n"
     ]
    },
    {
     "name": "stdout",
     "output_type": "stream",
     "text": [
      "🗜️ Archivo GZIP descomprimido: chirps-v2.0.2014.01.21.tif\n",
      "Raster recortado guardado en: D:\\OneDrive - CGIAR\\Desktop\\climate_data_downloader\\data\\processed\\chirps\\valle_2014-01-21.tif\n",
      "\n",
      "📅 Fecha: 2014-01-22\n",
      "⬇️ URL: https://data.chc.ucsb.edu/products/CHIRPS-2.0/global_daily/tifs/p05/2014/chirps-v2.0.2014.01.22.tif.gz\n",
      "📥 RAW:        D:\\OneDrive - CGIAR\\Desktop\\climate_data_downloader\\data\\raw\\chirps\\chirps-v2.0.2014.01.22.tif.gz\n",
      "🗜️ INTERIM:   D:\\OneDrive - CGIAR\\Desktop\\climate_data_downloader\\data\\interim\\chirps\\chirps-v2.0.2014.01.22.tif\n",
      "📦 PROCESSED:    D:\\OneDrive - CGIAR\\Desktop\\climate_data_downloader\\data\\processed\\chirps\\valle_2014-01-22.tif\n"
     ]
    },
    {
     "name": "stderr",
     "output_type": "stream",
     "text": [
      "Descargando chirps-v2.0.2014.01.22.tif.gz: 100%|██████████| 3.23M/3.23M [00:01<00:00, 1.90MB/s]\n"
     ]
    },
    {
     "name": "stdout",
     "output_type": "stream",
     "text": [
      "🗜️ Archivo GZIP descomprimido: chirps-v2.0.2014.01.22.tif\n",
      "Raster recortado guardado en: D:\\OneDrive - CGIAR\\Desktop\\climate_data_downloader\\data\\processed\\chirps\\valle_2014-01-22.tif\n",
      "\n",
      "📅 Fecha: 2014-01-23\n",
      "⬇️ URL: https://data.chc.ucsb.edu/products/CHIRPS-2.0/global_daily/tifs/p05/2014/chirps-v2.0.2014.01.23.tif.gz\n",
      "📥 RAW:        D:\\OneDrive - CGIAR\\Desktop\\climate_data_downloader\\data\\raw\\chirps\\chirps-v2.0.2014.01.23.tif.gz\n",
      "🗜️ INTERIM:   D:\\OneDrive - CGIAR\\Desktop\\climate_data_downloader\\data\\interim\\chirps\\chirps-v2.0.2014.01.23.tif\n",
      "📦 PROCESSED:    D:\\OneDrive - CGIAR\\Desktop\\climate_data_downloader\\data\\processed\\chirps\\valle_2014-01-23.tif\n"
     ]
    },
    {
     "name": "stderr",
     "output_type": "stream",
     "text": [
      "Descargando chirps-v2.0.2014.01.23.tif.gz: 100%|██████████| 3.18M/3.18M [00:03<00:00, 958kB/s] \n"
     ]
    },
    {
     "name": "stdout",
     "output_type": "stream",
     "text": [
      "🗜️ Archivo GZIP descomprimido: chirps-v2.0.2014.01.23.tif\n",
      "Raster recortado guardado en: D:\\OneDrive - CGIAR\\Desktop\\climate_data_downloader\\data\\processed\\chirps\\valle_2014-01-23.tif\n",
      "\n",
      "📅 Fecha: 2014-01-24\n",
      "⬇️ URL: https://data.chc.ucsb.edu/products/CHIRPS-2.0/global_daily/tifs/p05/2014/chirps-v2.0.2014.01.24.tif.gz\n",
      "📥 RAW:        D:\\OneDrive - CGIAR\\Desktop\\climate_data_downloader\\data\\raw\\chirps\\chirps-v2.0.2014.01.24.tif.gz\n",
      "🗜️ INTERIM:   D:\\OneDrive - CGIAR\\Desktop\\climate_data_downloader\\data\\interim\\chirps\\chirps-v2.0.2014.01.24.tif\n",
      "📦 PROCESSED:    D:\\OneDrive - CGIAR\\Desktop\\climate_data_downloader\\data\\processed\\chirps\\valle_2014-01-24.tif\n"
     ]
    },
    {
     "name": "stderr",
     "output_type": "stream",
     "text": [
      "Descargando chirps-v2.0.2014.01.24.tif.gz: 100%|██████████| 3.68M/3.68M [00:01<00:00, 3.62MB/s]\n"
     ]
    },
    {
     "name": "stdout",
     "output_type": "stream",
     "text": [
      "🗜️ Archivo GZIP descomprimido: chirps-v2.0.2014.01.24.tif\n",
      "Raster recortado guardado en: D:\\OneDrive - CGIAR\\Desktop\\climate_data_downloader\\data\\processed\\chirps\\valle_2014-01-24.tif\n",
      "\n",
      "📅 Fecha: 2014-01-25\n",
      "⬇️ URL: https://data.chc.ucsb.edu/products/CHIRPS-2.0/global_daily/tifs/p05/2014/chirps-v2.0.2014.01.25.tif.gz\n",
      "📥 RAW:        D:\\OneDrive - CGIAR\\Desktop\\climate_data_downloader\\data\\raw\\chirps\\chirps-v2.0.2014.01.25.tif.gz\n",
      "🗜️ INTERIM:   D:\\OneDrive - CGIAR\\Desktop\\climate_data_downloader\\data\\interim\\chirps\\chirps-v2.0.2014.01.25.tif\n",
      "📦 PROCESSED:    D:\\OneDrive - CGIAR\\Desktop\\climate_data_downloader\\data\\processed\\chirps\\valle_2014-01-25.tif\n"
     ]
    },
    {
     "name": "stderr",
     "output_type": "stream",
     "text": [
      "Descargando chirps-v2.0.2014.01.25.tif.gz: 100%|██████████| 3.77M/3.77M [00:01<00:00, 3.29MB/s]\n"
     ]
    },
    {
     "name": "stdout",
     "output_type": "stream",
     "text": [
      "🗜️ Archivo GZIP descomprimido: chirps-v2.0.2014.01.25.tif\n",
      "Raster recortado guardado en: D:\\OneDrive - CGIAR\\Desktop\\climate_data_downloader\\data\\processed\\chirps\\valle_2014-01-25.tif\n",
      "\n",
      "📅 Fecha: 2014-01-26\n",
      "⬇️ URL: https://data.chc.ucsb.edu/products/CHIRPS-2.0/global_daily/tifs/p05/2014/chirps-v2.0.2014.01.26.tif.gz\n",
      "📥 RAW:        D:\\OneDrive - CGIAR\\Desktop\\climate_data_downloader\\data\\raw\\chirps\\chirps-v2.0.2014.01.26.tif.gz\n",
      "🗜️ INTERIM:   D:\\OneDrive - CGIAR\\Desktop\\climate_data_downloader\\data\\interim\\chirps\\chirps-v2.0.2014.01.26.tif\n",
      "📦 PROCESSED:    D:\\OneDrive - CGIAR\\Desktop\\climate_data_downloader\\data\\processed\\chirps\\valle_2014-01-26.tif\n"
     ]
    },
    {
     "name": "stderr",
     "output_type": "stream",
     "text": [
      "Descargando chirps-v2.0.2014.01.26.tif.gz: 100%|██████████| 3.44M/3.44M [00:03<00:00, 1.08MB/s]\n"
     ]
    },
    {
     "name": "stdout",
     "output_type": "stream",
     "text": [
      "🗜️ Archivo GZIP descomprimido: chirps-v2.0.2014.01.26.tif\n",
      "Raster recortado guardado en: D:\\OneDrive - CGIAR\\Desktop\\climate_data_downloader\\data\\processed\\chirps\\valle_2014-01-26.tif\n",
      "\n",
      "📅 Fecha: 2014-01-27\n",
      "⬇️ URL: https://data.chc.ucsb.edu/products/CHIRPS-2.0/global_daily/tifs/p05/2014/chirps-v2.0.2014.01.27.tif.gz\n",
      "📥 RAW:        D:\\OneDrive - CGIAR\\Desktop\\climate_data_downloader\\data\\raw\\chirps\\chirps-v2.0.2014.01.27.tif.gz\n",
      "🗜️ INTERIM:   D:\\OneDrive - CGIAR\\Desktop\\climate_data_downloader\\data\\interim\\chirps\\chirps-v2.0.2014.01.27.tif\n",
      "📦 PROCESSED:    D:\\OneDrive - CGIAR\\Desktop\\climate_data_downloader\\data\\processed\\chirps\\valle_2014-01-27.tif\n"
     ]
    },
    {
     "name": "stderr",
     "output_type": "stream",
     "text": [
      "Descargando chirps-v2.0.2014.01.27.tif.gz: 100%|██████████| 3.55M/3.55M [00:00<00:00, 3.73MB/s]\n"
     ]
    },
    {
     "name": "stdout",
     "output_type": "stream",
     "text": [
      "🗜️ Archivo GZIP descomprimido: chirps-v2.0.2014.01.27.tif\n",
      "Raster recortado guardado en: D:\\OneDrive - CGIAR\\Desktop\\climate_data_downloader\\data\\processed\\chirps\\valle_2014-01-27.tif\n",
      "\n",
      "📅 Fecha: 2014-01-28\n",
      "⬇️ URL: https://data.chc.ucsb.edu/products/CHIRPS-2.0/global_daily/tifs/p05/2014/chirps-v2.0.2014.01.28.tif.gz\n",
      "📥 RAW:        D:\\OneDrive - CGIAR\\Desktop\\climate_data_downloader\\data\\raw\\chirps\\chirps-v2.0.2014.01.28.tif.gz\n",
      "🗜️ INTERIM:   D:\\OneDrive - CGIAR\\Desktop\\climate_data_downloader\\data\\interim\\chirps\\chirps-v2.0.2014.01.28.tif\n",
      "📦 PROCESSED:    D:\\OneDrive - CGIAR\\Desktop\\climate_data_downloader\\data\\processed\\chirps\\valle_2014-01-28.tif\n"
     ]
    },
    {
     "name": "stderr",
     "output_type": "stream",
     "text": [
      "Descargando chirps-v2.0.2014.01.28.tif.gz: 100%|██████████| 3.59M/3.59M [00:01<00:00, 3.69MB/s]\n"
     ]
    },
    {
     "name": "stdout",
     "output_type": "stream",
     "text": [
      "🗜️ Archivo GZIP descomprimido: chirps-v2.0.2014.01.28.tif\n",
      "Raster recortado guardado en: D:\\OneDrive - CGIAR\\Desktop\\climate_data_downloader\\data\\processed\\chirps\\valle_2014-01-28.tif\n",
      "\n",
      "📅 Fecha: 2014-01-29\n",
      "⬇️ URL: https://data.chc.ucsb.edu/products/CHIRPS-2.0/global_daily/tifs/p05/2014/chirps-v2.0.2014.01.29.tif.gz\n",
      "📥 RAW:        D:\\OneDrive - CGIAR\\Desktop\\climate_data_downloader\\data\\raw\\chirps\\chirps-v2.0.2014.01.29.tif.gz\n",
      "🗜️ INTERIM:   D:\\OneDrive - CGIAR\\Desktop\\climate_data_downloader\\data\\interim\\chirps\\chirps-v2.0.2014.01.29.tif\n",
      "📦 PROCESSED:    D:\\OneDrive - CGIAR\\Desktop\\climate_data_downloader\\data\\processed\\chirps\\valle_2014-01-29.tif\n"
     ]
    },
    {
     "name": "stderr",
     "output_type": "stream",
     "text": [
      "Descargando chirps-v2.0.2014.01.29.tif.gz: 100%|██████████| 3.65M/3.65M [00:01<00:00, 3.77MB/s]\n"
     ]
    },
    {
     "name": "stdout",
     "output_type": "stream",
     "text": [
      "🗜️ Archivo GZIP descomprimido: chirps-v2.0.2014.01.29.tif\n",
      "Raster recortado guardado en: D:\\OneDrive - CGIAR\\Desktop\\climate_data_downloader\\data\\processed\\chirps\\valle_2014-01-29.tif\n",
      "\n",
      "📅 Fecha: 2014-01-30\n",
      "⬇️ URL: https://data.chc.ucsb.edu/products/CHIRPS-2.0/global_daily/tifs/p05/2014/chirps-v2.0.2014.01.30.tif.gz\n",
      "📥 RAW:        D:\\OneDrive - CGIAR\\Desktop\\climate_data_downloader\\data\\raw\\chirps\\chirps-v2.0.2014.01.30.tif.gz\n",
      "🗜️ INTERIM:   D:\\OneDrive - CGIAR\\Desktop\\climate_data_downloader\\data\\interim\\chirps\\chirps-v2.0.2014.01.30.tif\n",
      "📦 PROCESSED:    D:\\OneDrive - CGIAR\\Desktop\\climate_data_downloader\\data\\processed\\chirps\\valle_2014-01-30.tif\n"
     ]
    },
    {
     "name": "stderr",
     "output_type": "stream",
     "text": [
      "Descargando chirps-v2.0.2014.01.30.tif.gz: 100%|██████████| 3.82M/3.82M [00:01<00:00, 3.87MB/s]\n"
     ]
    },
    {
     "name": "stdout",
     "output_type": "stream",
     "text": [
      "🗜️ Archivo GZIP descomprimido: chirps-v2.0.2014.01.30.tif\n",
      "Raster recortado guardado en: D:\\OneDrive - CGIAR\\Desktop\\climate_data_downloader\\data\\processed\\chirps\\valle_2014-01-30.tif\n",
      "\n",
      "📅 Fecha: 2014-01-31\n",
      "⬇️ URL: https://data.chc.ucsb.edu/products/CHIRPS-2.0/global_daily/tifs/p05/2014/chirps-v2.0.2014.01.31.tif.gz\n",
      "📥 RAW:        D:\\OneDrive - CGIAR\\Desktop\\climate_data_downloader\\data\\raw\\chirps\\chirps-v2.0.2014.01.31.tif.gz\n",
      "🗜️ INTERIM:   D:\\OneDrive - CGIAR\\Desktop\\climate_data_downloader\\data\\interim\\chirps\\chirps-v2.0.2014.01.31.tif\n",
      "📦 PROCESSED:    D:\\OneDrive - CGIAR\\Desktop\\climate_data_downloader\\data\\processed\\chirps\\valle_2014-01-31.tif\n"
     ]
    },
    {
     "name": "stderr",
     "output_type": "stream",
     "text": [
      "Descargando chirps-v2.0.2014.01.31.tif.gz: 100%|██████████| 3.51M/3.51M [00:04<00:00, 858kB/s] \n"
     ]
    },
    {
     "name": "stdout",
     "output_type": "stream",
     "text": [
      "🗜️ Archivo GZIP descomprimido: chirps-v2.0.2014.01.31.tif\n",
      "Raster recortado guardado en: D:\\OneDrive - CGIAR\\Desktop\\climate_data_downloader\\data\\processed\\chirps\\valle_2014-01-31.tif\n",
      "\n",
      "📅 Fecha: 2014-02-01\n",
      "⬇️ URL: https://data.chc.ucsb.edu/products/CHIRPS-2.0/global_daily/tifs/p05/2014/chirps-v2.0.2014.02.01.tif.gz\n",
      "📥 RAW:        D:\\OneDrive - CGIAR\\Desktop\\climate_data_downloader\\data\\raw\\chirps\\chirps-v2.0.2014.02.01.tif.gz\n",
      "🗜️ INTERIM:   D:\\OneDrive - CGIAR\\Desktop\\climate_data_downloader\\data\\interim\\chirps\\chirps-v2.0.2014.02.01.tif\n",
      "📦 PROCESSED:    D:\\OneDrive - CGIAR\\Desktop\\climate_data_downloader\\data\\processed\\chirps\\valle_2014-02-01.tif\n"
     ]
    },
    {
     "name": "stderr",
     "output_type": "stream",
     "text": [
      "Descargando chirps-v2.0.2014.02.01.tif.gz: 100%|██████████| 3.28M/3.28M [00:01<00:00, 1.81MB/s]\n"
     ]
    },
    {
     "name": "stdout",
     "output_type": "stream",
     "text": [
      "🗜️ Archivo GZIP descomprimido: chirps-v2.0.2014.02.01.tif\n",
      "Raster recortado guardado en: D:\\OneDrive - CGIAR\\Desktop\\climate_data_downloader\\data\\processed\\chirps\\valle_2014-02-01.tif\n",
      "\n",
      "📅 Fecha: 2014-02-02\n",
      "⬇️ URL: https://data.chc.ucsb.edu/products/CHIRPS-2.0/global_daily/tifs/p05/2014/chirps-v2.0.2014.02.02.tif.gz\n",
      "📥 RAW:        D:\\OneDrive - CGIAR\\Desktop\\climate_data_downloader\\data\\raw\\chirps\\chirps-v2.0.2014.02.02.tif.gz\n",
      "🗜️ INTERIM:   D:\\OneDrive - CGIAR\\Desktop\\climate_data_downloader\\data\\interim\\chirps\\chirps-v2.0.2014.02.02.tif\n",
      "📦 PROCESSED:    D:\\OneDrive - CGIAR\\Desktop\\climate_data_downloader\\data\\processed\\chirps\\valle_2014-02-02.tif\n"
     ]
    },
    {
     "name": "stderr",
     "output_type": "stream",
     "text": [
      "Descargando chirps-v2.0.2014.02.02.tif.gz: 100%|██████████| 3.31M/3.31M [00:01<00:00, 2.14MB/s]\n"
     ]
    },
    {
     "name": "stdout",
     "output_type": "stream",
     "text": [
      "🗜️ Archivo GZIP descomprimido: chirps-v2.0.2014.02.02.tif\n",
      "Raster recortado guardado en: D:\\OneDrive - CGIAR\\Desktop\\climate_data_downloader\\data\\processed\\chirps\\valle_2014-02-02.tif\n",
      "\n",
      "📅 Fecha: 2014-02-03\n",
      "⬇️ URL: https://data.chc.ucsb.edu/products/CHIRPS-2.0/global_daily/tifs/p05/2014/chirps-v2.0.2014.02.03.tif.gz\n",
      "📥 RAW:        D:\\OneDrive - CGIAR\\Desktop\\climate_data_downloader\\data\\raw\\chirps\\chirps-v2.0.2014.02.03.tif.gz\n",
      "🗜️ INTERIM:   D:\\OneDrive - CGIAR\\Desktop\\climate_data_downloader\\data\\interim\\chirps\\chirps-v2.0.2014.02.03.tif\n",
      "📦 PROCESSED:    D:\\OneDrive - CGIAR\\Desktop\\climate_data_downloader\\data\\processed\\chirps\\valle_2014-02-03.tif\n"
     ]
    },
    {
     "name": "stderr",
     "output_type": "stream",
     "text": [
      "Descargando chirps-v2.0.2014.02.03.tif.gz: 100%|██████████| 3.30M/3.30M [00:02<00:00, 1.68MB/s]\n"
     ]
    },
    {
     "name": "stdout",
     "output_type": "stream",
     "text": [
      "🗜️ Archivo GZIP descomprimido: chirps-v2.0.2014.02.03.tif\n",
      "Raster recortado guardado en: D:\\OneDrive - CGIAR\\Desktop\\climate_data_downloader\\data\\processed\\chirps\\valle_2014-02-03.tif\n",
      "\n",
      "📅 Fecha: 2014-02-04\n",
      "⬇️ URL: https://data.chc.ucsb.edu/products/CHIRPS-2.0/global_daily/tifs/p05/2014/chirps-v2.0.2014.02.04.tif.gz\n",
      "📥 RAW:        D:\\OneDrive - CGIAR\\Desktop\\climate_data_downloader\\data\\raw\\chirps\\chirps-v2.0.2014.02.04.tif.gz\n",
      "🗜️ INTERIM:   D:\\OneDrive - CGIAR\\Desktop\\climate_data_downloader\\data\\interim\\chirps\\chirps-v2.0.2014.02.04.tif\n",
      "📦 PROCESSED:    D:\\OneDrive - CGIAR\\Desktop\\climate_data_downloader\\data\\processed\\chirps\\valle_2014-02-04.tif\n"
     ]
    },
    {
     "name": "stderr",
     "output_type": "stream",
     "text": [
      "Descargando chirps-v2.0.2014.02.04.tif.gz: 100%|██████████| 3.84M/3.84M [00:01<00:00, 2.99MB/s]\n"
     ]
    },
    {
     "name": "stdout",
     "output_type": "stream",
     "text": [
      "🗜️ Archivo GZIP descomprimido: chirps-v2.0.2014.02.04.tif\n",
      "Raster recortado guardado en: D:\\OneDrive - CGIAR\\Desktop\\climate_data_downloader\\data\\processed\\chirps\\valle_2014-02-04.tif\n",
      "\n",
      "📅 Fecha: 2014-02-05\n",
      "⬇️ URL: https://data.chc.ucsb.edu/products/CHIRPS-2.0/global_daily/tifs/p05/2014/chirps-v2.0.2014.02.05.tif.gz\n",
      "📥 RAW:        D:\\OneDrive - CGIAR\\Desktop\\climate_data_downloader\\data\\raw\\chirps\\chirps-v2.0.2014.02.05.tif.gz\n",
      "🗜️ INTERIM:   D:\\OneDrive - CGIAR\\Desktop\\climate_data_downloader\\data\\interim\\chirps\\chirps-v2.0.2014.02.05.tif\n",
      "📦 PROCESSED:    D:\\OneDrive - CGIAR\\Desktop\\climate_data_downloader\\data\\processed\\chirps\\valle_2014-02-05.tif\n"
     ]
    },
    {
     "name": "stderr",
     "output_type": "stream",
     "text": [
      "Descargando chirps-v2.0.2014.02.05.tif.gz: 100%|██████████| 3.76M/3.76M [00:01<00:00, 2.60MB/s]\n"
     ]
    },
    {
     "name": "stdout",
     "output_type": "stream",
     "text": [
      "🗜️ Archivo GZIP descomprimido: chirps-v2.0.2014.02.05.tif\n",
      "Raster recortado guardado en: D:\\OneDrive - CGIAR\\Desktop\\climate_data_downloader\\data\\processed\\chirps\\valle_2014-02-05.tif\n"
     ]
    }
   ],
   "source": [
    "delta = timedelta(days=1)\n",
    "fecha = fecha_inicio\n",
    "\n",
    "while fecha <= fecha_fin:\n",
    "    anio = fecha.year\n",
    "    fecha_str = fecha.strftime(\"%Y-%m-%d\")\n",
    "    nombre_archivo = f\"chirps-v2.0.{fecha_str.replace('-', '.')}.tif.gz\"\n",
    "\n",
    "    url = f\"https://data.chc.ucsb.edu/products/CHIRPS-2.0/global_daily/tifs/p05/{anio}/{nombre_archivo}\"\n",
    "    ruta_gz = RAW_CHIRPS / nombre_archivo\n",
    "    ruta_tif = INTERIM_CHIRPS / nombre_archivo.replace(\".gz\", \"\")\n",
    "    ruta_clip = PROCESSED_CHIRPS / f\"valle_{fecha_str}.tif\"\n",
    "\n",
    "    try:\n",
    "        print(f\"\\n📅 Fecha: {fecha_str}\")\n",
    "        print(f\"⬇️ URL: {url}\")\n",
    "        print(f\"📥 RAW:        {ruta_gz}\")\n",
    "        print(f\"🗜️ INTERIM:   {ruta_tif}\")\n",
    "        print(f\"📦 PROCESSED:    {ruta_clip}\")\n",
    "\n",
    "        # Paso 1: Descargar\n",
    "        descargar_chirps(url, ruta_gz)\n",
    "\n",
    "        # Paso 2: Descomprimir\n",
    "        descomprimir_archivo_generico(ruta_gz, ruta_tif)\n",
    "\n",
    "        # Paso 3: Recortar\n",
    "        recortar_raster(\n",
    "            ruta_raster=ruta_tif,\n",
    "            ruta_salida=ruta_clip,\n",
    "            ruta_shapefile=shapefile_valle\n",
    "        )\n",
    "        \n",
    "    except Exception as e:\n",
    "        print(f\"❌ Error en la fecha {fecha_str}: {e}\")\n",
    "\n",
    "    fecha += delta"
   ]
  },
  {
   "cell_type": "markdown",
   "id": "0cfc3f5f",
   "metadata": {},
   "source": [
    "# ☀️ Descarga de variables climáticas desde Copernicus\n",
    "\n",
    "En esta sección se descarga información climática desde la **API de Copernicus**, específicamente del conjunto de productos `sis-agrometeorological-indicators`.\n",
    "\n",
    "### 📦 Variables consideradas:\n",
    "\n",
    "- ☀️ `solar_radiation_flux`\n",
    "- 💧 `2m_relative_humidity`\n",
    "- 🌡 `2m_temperature` (máxima, mínima, media)\n",
    "- 💨 `10m_wind_speed`\n",
    "- ❄️ `2m_dewpoint_temperature`\n",
    "\n",
    "Cada variable se descarga en formato `.nc.gz`, se puede descomprimir y luego utilizar en análisis o modelamiento.\n",
    "\n",
    "### 🗂 Organización de carpetas:\n",
    "\n",
    "Para mantener los datos organizados, se crean subcarpetas por variable dentro de las carpetas base:\n",
    "\n",
    "- `data/raw/copernicus/SOLAR_RADIATION_FLUX/`\n",
    "- `data/interim/copernicus/SOLAR_RADIATION_FLUX/`\n",
    "- `data/processed/copernicus/SOLAR_RADIATION_FLUX/`\n",
    "\n",
    "Esto permite manejar múltiples fuentes y variables de forma ordenada y reproducible.\n",
    "\n",
    "\n",
    "### 🛠  Configuración de la api key:\n",
    "\n",
    "Se crea el archivo `.cdsapirc` con la api key incluida en el archivo .env, en caso de ya exista el archivo el proceso lo actualiza con la nueva api key suministrada."
   ]
  },
  {
   "cell_type": "code",
   "execution_count": 5,
   "id": "723fec82",
   "metadata": {},
   "outputs": [
    {
     "name": "stdout",
     "output_type": "stream",
     "text": [
      "✅ Carpetas para cada variable de Copernicus creadas exitosamente.\n"
     ]
    }
   ],
   "source": [
    "# Variables climáticas de Copernicus\n",
    "copernicus_variables = [\n",
    "    \"solar_radiation_flux\",\n",
    "    \"2m_relative_humidity\",\n",
    "    \"2m_temperature_max\",\n",
    "    \"2m_temperature_min\",\n",
    "    \"2m_temperature_mean\",\n",
    "    \"2m_dewpoint_temperature\",\n",
    "    \"10m_wind_speed\"\n",
    "]\n",
    "\n",
    "# Diccionarios para almacenar rutas por variable\n",
    "RAW_COPERNICUS_VARS = {}\n",
    "INTERIM_COPERNICUS_VARS = {}\n",
    "PROCESSED_COPERNICUS_VARS = {}\n",
    "\n",
    "# Crear subcarpetas organizadas por variable dentro de cada etapa\n",
    "for var in copernicus_variables:\n",
    "    var_folder = var.upper()\n",
    "\n",
    "    raw_var_path = RAW_COPERNICUS / var_folder\n",
    "    interim_var_path = INTERIM_COPERNICUS / var_folder\n",
    "    processed_var_path = PROCESSED_COPERNICUS / var_folder\n",
    "\n",
    "    # Crear las carpetas si no existen\n",
    "    for path in [raw_var_path, interim_var_path, processed_var_path]:\n",
    "        path.mkdir(parents=True, exist_ok=True)\n",
    "\n",
    "    # Guardar rutas en diccionarios para uso posterior\n",
    "    RAW_COPERNICUS_VARS[var] = raw_var_path\n",
    "    INTERIM_COPERNICUS_VARS[var] = interim_var_path\n",
    "    PROCESSED_COPERNICUS_VARS[var] = processed_var_path\n",
    "\n",
    "print(\"✅ Carpetas para cada variable de Copernicus creadas exitosamente.\")\n"
   ]
  },
  {
   "cell_type": "code",
   "execution_count": 9,
   "id": "7fc1db79",
   "metadata": {},
   "outputs": [
    {
     "name": "stdout",
     "output_type": "stream",
     "text": [
      "✅ Archivo .cdsapirc creado o reemplazado en: C:\\Users\\dagudelo\\.cdsapirc\n"
     ]
    }
   ],
   "source": [
    "# Asegurarse de que el archivo .cdsapirc exista o se genere\n",
    "ensure_cdsapi_config()"
   ]
  },
  {
   "cell_type": "markdown",
   "id": "1f40df8a",
   "metadata": {},
   "source": [
    "## ☀️ Descarga de radiación solar (`solar_radiation_flux`)\n",
    "\n",
    "En esta sección se descarga la variable **radiación solar** desde la plataforma de Copernicus Climate Data Store (CDS), utilizando el producto:\n"
   ]
  },
  {
   "cell_type": "markdown",
   "id": "fd448268",
   "metadata": {},
   "source": [
    "\n",
    "### 🔍 Detalles técnicos:\n",
    "\n",
    "- **Variable**: `solar_radiation_flux`\n",
    "- **Formato de descarga**: `.nc.gz` (NetCDF comprimido)\n",
    "- **Área de interés**: `valle.shp` (Valle del Cauca)\n",
    "- **Periodo**: se define en el notebook (año, mes)\n",
    "- **Frecuencia**: diaria\n",
    "- **Estadística aplicada**: ninguna (variable simple)\n",
    "\n",
    "### 📁 Organización de datos:\n",
    "\n",
    "Los archivos serán almacenados en:\n",
    "\n",
    "- `data/raw/copernicus/SOLAR_RADIATION_FLUX/` → archivo `.nc.gz`\n",
    "- `data/interim/copernicus/SOLAR_RADIATION_FLUX/` → archivo `.nc` descomprimido\n",
    "- `data/processed/copernicus/SOLAR_RADIATION_FLUX/` → (opcional para transformaciones posteriores)\n",
    "\n",
    "Esta estructura permite trabajar de forma modular con múltiples fuentes y variables sin conflictos de nombres ni rutas.\n"
   ]
  },
  {
   "cell_type": "code",
   "execution_count": 10,
   "id": "269a2593",
   "metadata": {},
   "outputs": [
    {
     "name": "stdout",
     "output_type": "stream",
     "text": [
      "\n",
      "📥 Descargando solar_radiation_flux → 2014-01\n"
     ]
    },
    {
     "name": "stderr",
     "output_type": "stream",
     "text": [
      "2025-04-06 19:39:39,994 WARNING [2025-04-03T00:00:00] System is in degraded status due to issues on the underlying infrastructure. Please follow status [here](https://status.ecmwf.int/) or in our [forum](https://forum.ecmwf.int/t/data-stores-in-degraded-status/12472)\n",
      "2025-04-06 19:39:39,996 INFO [2024-09-26T00:00:00] Watch our [Forum](https://forum.ecmwf.int/) for Announcements, news and other discussed topics.\n",
      "2025-04-06 19:39:39,996 WARNING [2024-06-16T00:00:00] CDS API syntax is changed and some keys or parameter names may have also changed. To avoid requests failing, please use the \"Show API request code\" tool on the dataset Download Form to check you are using the correct syntax for your API request.\n",
      "2025-04-06 19:39:40,505 INFO [2024-02-01T00:00:00] An issue has been identified with version 1.0 & version 1.1 of this dataset. Please see the Known issues table in the Documentation for more information.\n",
      "2025-04-06 19:39:40,506 INFO Request ID is 5fff4f5b-f501-4b61-b517-2568b075d629\n",
      "2025-04-06 19:39:40,724 INFO status has been updated to accepted\n",
      "2025-04-06 19:39:46,222 INFO status has been updated to successful\n",
      "                                                                                       \r"
     ]
    },
    {
     "name": "stdout",
     "output_type": "stream",
     "text": [
      "🗜️ Descomprimiendo → solar_radiation_flux_2014_01.nc\n",
      "🗜️ Archivo ZIP extraído a: D:\\OneDrive - CGIAR\\Desktop\\climate_data_downloader\\data\\interim\\copernicus\\SOLAR_RADIATION_FLUX\n",
      "\n",
      "📥 Descargando solar_radiation_flux → 2014-02\n"
     ]
    },
    {
     "name": "stderr",
     "output_type": "stream",
     "text": [
      "2025-04-06 19:39:49,936 WARNING [2025-04-03T00:00:00] System is in degraded status due to issues on the underlying infrastructure. Please follow status [here](https://status.ecmwf.int/) or in our [forum](https://forum.ecmwf.int/t/data-stores-in-degraded-status/12472)\n",
      "2025-04-06 19:39:49,936 INFO [2024-09-26T00:00:00] Watch our [Forum](https://forum.ecmwf.int/) for Announcements, news and other discussed topics.\n",
      "2025-04-06 19:39:49,936 WARNING [2024-06-16T00:00:00] CDS API syntax is changed and some keys or parameter names may have also changed. To avoid requests failing, please use the \"Show API request code\" tool on the dataset Download Form to check you are using the correct syntax for your API request.\n",
      "2025-04-06 19:39:50,444 INFO [2024-02-01T00:00:00] An issue has been identified with version 1.0 & version 1.1 of this dataset. Please see the Known issues table in the Documentation for more information.\n",
      "2025-04-06 19:39:50,446 INFO Request ID is f36dadb7-9afc-4215-aa53-e3ac105055ca\n",
      "2025-04-06 19:39:50,771 INFO status has been updated to accepted\n",
      "2025-04-06 19:39:56,150 INFO status has been updated to successful\n",
      "                                                                                       "
     ]
    },
    {
     "name": "stdout",
     "output_type": "stream",
     "text": [
      "🗜️ Descomprimiendo → solar_radiation_flux_2014_02.nc\n",
      "🗜️ Archivo ZIP extraído a: D:\\OneDrive - CGIAR\\Desktop\\climate_data_downloader\\data\\interim\\copernicus\\SOLAR_RADIATION_FLUX\n"
     ]
    },
    {
     "name": "stderr",
     "output_type": "stream",
     "text": [
      "\r"
     ]
    }
   ],
   "source": [
    "\n",
    "# ⚙️ Parámetros base\n",
    "producto = \"sis-agrometeorological-indicators\"\n",
    "variable = \"solar_radiation_flux\"\n",
    "raw_dir = RAW_COPERNICUS_VARS[variable]\n",
    "interim_dir = INTERIM_COPERNICUS_VARS[variable]\n",
    "\n",
    "# 🔁 Construir conjunto (año, mes) desde el rango definido\n",
    "fechas_unicas = set()\n",
    "fecha = fecha_inicio\n",
    "while fecha <= fecha_fin:\n",
    "    fechas_unicas.add((fecha.year, fecha.month))\n",
    "    fecha += timedelta(days=1)\n",
    "\n",
    "# 📥 Descargar y 🗜️ descomprimir por mes\n",
    "for (anio, mes) in sorted(fechas_unicas):\n",
    "    nombre_archivo_gz = f\"{variable}_{anio}_{mes:02d}.nc.gz\"\n",
    "    nombre_archivo_nc = nombre_archivo_gz.replace(\".gz\", \"\")\n",
    "    ruta_gz = raw_dir / nombre_archivo_gz\n",
    "    ruta_nc = interim_dir / nombre_archivo_nc\n",
    "\n",
    "    print(f\"\\n📥 Descargando {variable} → {anio}-{mes:02d}\")\n",
    "    try:\n",
    "        download_simple_variable(\n",
    "            product=producto,\n",
    "            variable=variable,\n",
    "            year=anio,\n",
    "            month=mes,\n",
    "            area=gdf_valle_bbox,\n",
    "            output_path=ruta_gz\n",
    "        )\n",
    "\n",
    "        print(f\"🗜️ Descomprimiendo → {ruta_nc.name}\")\n",
    "        descomprimir_archivo_generico(ruta_gz, ruta_nc)\n",
    "\n",
    "    except Exception as e:\n",
    "        print(f\"❌ Error en {anio}-{mes:02d}: {e}\")\n",
    "\n"
   ]
  },
  {
   "cell_type": "markdown",
   "id": "bf484818",
   "metadata": {},
   "source": [
    "## 🌍 Variables descargadas desde Google Earth Engine (GEE)\n",
    "\n",
    "En esta sección se descargarán variables de teledetección provenientes de **MODIS** utilizando la plataforma Google Earth Engine y el paquete `geemap`.\n",
    "\n",
    "### 📦 Variables consideradas:\n",
    "\n",
    "- **NDVI** – Índice de Vegetación de Diferencia Normalizada  \n",
    "  - Fuente: MODIS  \n",
    "  - Descripción: Representa la cantidad y vigor de vegetación verde.  \n",
    "  - Aplicación: Análisis de cobertura vegetal, estrés hídrico, productividad.  \n",
    "\n",
    "- **NDWI** – Índice de Diferencia Normalizada de Humedad  \n",
    "  - Fuente: MODIS  \n",
    "  - Descripción: Estima el contenido de agua en vegetación o cuerpos de agua superficiales.  \n",
    "  - Aplicación: Monitoreo de humedad del suelo, zonas inundadas o estrés hídrico.\n",
    "\n",
    "Estas variables se generarán a partir de productos MODIS, utilizando combinaciones específicas de bandas, y se exportarán en formato raster `.tif`, ya recortadas al área de interés definida en el shapefile del **Valle del Cauca**.\n"
   ]
  },
  {
   "cell_type": "markdown",
   "id": "969f0aa7",
   "metadata": {},
   "source": [
    "## 🔐 Autenticación con Google Earth Engine (solo la primera vez)\n",
    "\n",
    "Google Earth Engine requiere autenticación la primera vez que se usa.  \n",
    "Este proceso abrirá una pestaña en el navegador para iniciar sesión con tu cuenta de Google.\n",
    "\n",
    "Después de autenticarse una vez, el token se guarda localmente y ya no es necesario repetir este paso.\n"
   ]
  },
  {
   "cell_type": "code",
   "execution_count": 4,
   "id": "0a47e0f5",
   "metadata": {},
   "outputs": [
    {
     "name": "stdout",
     "output_type": "stream",
     "text": [
      "✅ Earth Engine ya autenticado.\n",
      "🌍 Google Earth Engine inicializado.\n"
     ]
    }
   ],
   "source": [
    "import ee\n",
    "import geemap\n",
    "from pathlib import Path\n",
    "\n",
    "# Ruta donde se guarda el token de autenticación local\n",
    "credenciales_path = Path.home() / \".config\" / \"earthengine\" / \"credentials\"\n",
    "\n",
    "# Autenticar si es necesario\n",
    "if not credenciales_path.exists():\n",
    "    print(\"🔐 No se encontró autenticación previa de Earth Engine. Iniciando login...\")\n",
    "    ee.Authenticate()\n",
    "else:\n",
    "    print(\"✅ Earth Engine ya autenticado.\")\n",
    "\n",
    "# Inicializar sesión\n",
    "ee.Initialize()\n",
    "print(\"🌍 Google Earth Engine inicializado.\")\n"
   ]
  },
  {
   "cell_type": "code",
   "execution_count": 5,
   "id": "d89ebf8b",
   "metadata": {},
   "outputs": [
    {
     "data": {
      "text/html": [
       "\n",
       "            <style>\n",
       "                .geemap-dark {\n",
       "                    --jp-widgets-color: white;\n",
       "                    --jp-widgets-label-color: white;\n",
       "                    --jp-ui-font-color1: white;\n",
       "                    --jp-layout-color2: #454545;\n",
       "                    background-color: #383838;\n",
       "                }\n",
       "\n",
       "                .geemap-dark .jupyter-button {\n",
       "                    --jp-layout-color3: #383838;\n",
       "                }\n",
       "\n",
       "                .geemap-colab {\n",
       "                    background-color: var(--colab-primary-surface-color, white);\n",
       "                }\n",
       "\n",
       "                .geemap-colab .jupyter-button {\n",
       "                    --jp-layout-color3: var(--colab-primary-surface-color, white);\n",
       "                }\n",
       "            </style>\n",
       "            "
      ],
      "text/plain": [
       "<IPython.core.display.HTML object>"
      ]
     },
     "metadata": {},
     "output_type": "display_data"
    },
    {
     "name": "stdout",
     "output_type": "stream",
     "text": [
      "✅ Carpetas para NDVI y NDWI (GEE) creadas correctamente.\n"
     ]
    }
   ],
   "source": [
    "# Variables a descargar desde Google Earth Engine\n",
    "gee_variables = [\"NDVI\", \"NDWI\"]\n",
    "\n",
    "# Diccionarios para rutas por variable\n",
    "RAW_GEE_VARS = {}\n",
    "INTERIM_GEE_VARS = {}\n",
    "PROCESSED_GEE_VARS = {}\n",
    "\n",
    "# Crear subcarpetas organizadas por variable\n",
    "for var in gee_variables:\n",
    "    var_folder = var.upper()\n",
    "\n",
    "    raw_path = RAW_GEE / var_folder\n",
    "    interim_path = INTERIM_GEE / var_folder\n",
    "    processed_path = PROCESSED_GEE / var_folder\n",
    "\n",
    "    # Crear carpetas si no existen\n",
    "    for path in [raw_path, interim_path, processed_path]:\n",
    "        path.mkdir(parents=True, exist_ok=True)\n",
    "\n",
    "    # Guardar rutas en diccionarios\n",
    "    RAW_GEE_VARS[var] = raw_path\n",
    "    INTERIM_GEE_VARS[var] = interim_path\n",
    "    PROCESSED_GEE_VARS[var] = processed_path\n",
    "\n",
    "print(\"✅ Carpetas para NDVI y NDWI (GEE) creadas correctamente.\")\n"
   ]
  },
  {
   "cell_type": "code",
   "execution_count": 6,
   "id": "07892eb5",
   "metadata": {},
   "outputs": [
    {
     "data": {
      "text/html": [
       "\n",
       "            <style>\n",
       "                .geemap-dark {\n",
       "                    --jp-widgets-color: white;\n",
       "                    --jp-widgets-label-color: white;\n",
       "                    --jp-ui-font-color1: white;\n",
       "                    --jp-layout-color2: #454545;\n",
       "                    background-color: #383838;\n",
       "                }\n",
       "\n",
       "                .geemap-dark .jupyter-button {\n",
       "                    --jp-layout-color3: #383838;\n",
       "                }\n",
       "\n",
       "                .geemap-colab {\n",
       "                    background-color: var(--colab-primary-surface-color, white);\n",
       "                }\n",
       "\n",
       "                .geemap-colab .jupyter-button {\n",
       "                    --jp-layout-color3: var(--colab-primary-surface-color, white);\n",
       "                }\n",
       "            </style>\n",
       "            "
      ],
      "text/plain": [
       "<IPython.core.display.HTML object>"
      ]
     },
     "metadata": {},
     "output_type": "display_data"
    },
    {
     "name": "stdout",
     "output_type": "stream",
     "text": [
      "🌱 Iniciando descarga de NDVI desde MODIS...\n",
      "🗓️ Rango de fechas: 2014-01-01 a 2014-02-05\n",
      "📍 Shapefile AOI: D:\\OneDrive - CGIAR\\Desktop\\climate_data_downloader\\data\\auxiliary\\shapefiles\\valle\\valle.shp\n",
      "📁 Carpeta de salida: D:\\OneDrive - CGIAR\\Desktop\\climate_data_downloader\\data\\raw\\gee\\NDVI\n",
      "📦 Imágenes encontradas: 35\n",
      "Generating URL ...\n",
      "Downloading data from https://earthengine.googleapis.com/v1/projects/699807344099/thumbnails/560d32574c87706cfdf6c755aeace8bd-1f8cb75d581ee982af363789abcad84e:getPixels\n",
      "Please wait ...\n",
      "Data downloaded to D:\\OneDrive - CGIAR\\Desktop\\climate_data_downloader\\data\\raw\\gee\\NDVI\\NDVI_MODIS_2014-01-01.tif\n",
      "✅ Descargado: D:\\OneDrive - CGIAR\\Desktop\\climate_data_downloader\\data\\raw\\gee\\NDVI\\NDVI_MODIS_2014-01-01.tif\n",
      "Generating URL ...\n",
      "Downloading data from https://earthengine.googleapis.com/v1/projects/699807344099/thumbnails/36ceeed688410f7d0e7db5ab91f5db19-8812c921b225183b377c466d747e4681:getPixels\n",
      "Please wait ...\n",
      "Data downloaded to D:\\OneDrive - CGIAR\\Desktop\\climate_data_downloader\\data\\raw\\gee\\NDVI\\NDVI_MODIS_2014-01-02.tif\n",
      "✅ Descargado: D:\\OneDrive - CGIAR\\Desktop\\climate_data_downloader\\data\\raw\\gee\\NDVI\\NDVI_MODIS_2014-01-02.tif\n",
      "Generating URL ...\n",
      "Downloading data from https://earthengine.googleapis.com/v1/projects/699807344099/thumbnails/a142efc4e8875a874814aa9f5f1e0ca0-37dac32bbeac4efb1d86299ac593910e:getPixels\n",
      "Please wait ...\n",
      "Data downloaded to D:\\OneDrive - CGIAR\\Desktop\\climate_data_downloader\\data\\raw\\gee\\NDVI\\NDVI_MODIS_2014-01-03.tif\n",
      "✅ Descargado: D:\\OneDrive - CGIAR\\Desktop\\climate_data_downloader\\data\\raw\\gee\\NDVI\\NDVI_MODIS_2014-01-03.tif\n",
      "Generating URL ...\n",
      "Downloading data from https://earthengine.googleapis.com/v1/projects/699807344099/thumbnails/732a90084006974473aa8878e6f9018b-bd51456f16c10a34e4bb66bfdfdd867c:getPixels\n",
      "Please wait ...\n",
      "Data downloaded to D:\\OneDrive - CGIAR\\Desktop\\climate_data_downloader\\data\\raw\\gee\\NDVI\\NDVI_MODIS_2014-01-04.tif\n",
      "✅ Descargado: D:\\OneDrive - CGIAR\\Desktop\\climate_data_downloader\\data\\raw\\gee\\NDVI\\NDVI_MODIS_2014-01-04.tif\n",
      "Generating URL ...\n",
      "Downloading data from https://earthengine.googleapis.com/v1/projects/699807344099/thumbnails/20cf584f83846cf2517c9f9ea9a1b886-f69c9f4ed5e81737b7ba74c05352202c:getPixels\n",
      "Please wait ...\n",
      "Data downloaded to D:\\OneDrive - CGIAR\\Desktop\\climate_data_downloader\\data\\raw\\gee\\NDVI\\NDVI_MODIS_2014-01-05.tif\n",
      "✅ Descargado: D:\\OneDrive - CGIAR\\Desktop\\climate_data_downloader\\data\\raw\\gee\\NDVI\\NDVI_MODIS_2014-01-05.tif\n",
      "Generating URL ...\n",
      "Downloading data from https://earthengine.googleapis.com/v1/projects/699807344099/thumbnails/35ec062101d01106cb3be8ac186cb28e-4e731a2418e54cb6626ef9cc63cfce94:getPixels\n",
      "Please wait ...\n",
      "Data downloaded to D:\\OneDrive - CGIAR\\Desktop\\climate_data_downloader\\data\\raw\\gee\\NDVI\\NDVI_MODIS_2014-01-06.tif\n",
      "✅ Descargado: D:\\OneDrive - CGIAR\\Desktop\\climate_data_downloader\\data\\raw\\gee\\NDVI\\NDVI_MODIS_2014-01-06.tif\n",
      "Generating URL ...\n",
      "Downloading data from https://earthengine.googleapis.com/v1/projects/699807344099/thumbnails/6adc048c270d469d7b1cad660c755b9f-512884fa321cecb3d7ea5b3856977bde:getPixels\n",
      "Please wait ...\n",
      "Data downloaded to D:\\OneDrive - CGIAR\\Desktop\\climate_data_downloader\\data\\raw\\gee\\NDVI\\NDVI_MODIS_2014-01-07.tif\n",
      "✅ Descargado: D:\\OneDrive - CGIAR\\Desktop\\climate_data_downloader\\data\\raw\\gee\\NDVI\\NDVI_MODIS_2014-01-07.tif\n",
      "Generating URL ...\n",
      "Downloading data from https://earthengine.googleapis.com/v1/projects/699807344099/thumbnails/57ec75624762edc5dd220167fe8bd6be-02532056b17b1412e1db553c6b5bca84:getPixels\n",
      "Please wait ...\n",
      "Data downloaded to D:\\OneDrive - CGIAR\\Desktop\\climate_data_downloader\\data\\raw\\gee\\NDVI\\NDVI_MODIS_2014-01-08.tif\n",
      "✅ Descargado: D:\\OneDrive - CGIAR\\Desktop\\climate_data_downloader\\data\\raw\\gee\\NDVI\\NDVI_MODIS_2014-01-08.tif\n",
      "Generating URL ...\n",
      "Downloading data from https://earthengine.googleapis.com/v1/projects/699807344099/thumbnails/f44ca287d02d11a798112cbe55357a08-39a52bd42760ce0fc9c84052de5b7742:getPixels\n",
      "Please wait ...\n",
      "Data downloaded to D:\\OneDrive - CGIAR\\Desktop\\climate_data_downloader\\data\\raw\\gee\\NDVI\\NDVI_MODIS_2014-01-09.tif\n",
      "✅ Descargado: D:\\OneDrive - CGIAR\\Desktop\\climate_data_downloader\\data\\raw\\gee\\NDVI\\NDVI_MODIS_2014-01-09.tif\n",
      "Generating URL ...\n",
      "Downloading data from https://earthengine.googleapis.com/v1/projects/699807344099/thumbnails/0ac034432628de82b78291209b442433-b7d2c43a3f501b60ab53da08e7bbfa78:getPixels\n",
      "Please wait ...\n",
      "Data downloaded to D:\\OneDrive - CGIAR\\Desktop\\climate_data_downloader\\data\\raw\\gee\\NDVI\\NDVI_MODIS_2014-01-10.tif\n",
      "✅ Descargado: D:\\OneDrive - CGIAR\\Desktop\\climate_data_downloader\\data\\raw\\gee\\NDVI\\NDVI_MODIS_2014-01-10.tif\n",
      "Generating URL ...\n",
      "Downloading data from https://earthengine.googleapis.com/v1/projects/699807344099/thumbnails/58314e96c7af0f65452a7b1adef49af4-f5214b741a971809de9b14092f7f5844:getPixels\n",
      "Please wait ...\n",
      "Data downloaded to D:\\OneDrive - CGIAR\\Desktop\\climate_data_downloader\\data\\raw\\gee\\NDVI\\NDVI_MODIS_2014-01-11.tif\n",
      "✅ Descargado: D:\\OneDrive - CGIAR\\Desktop\\climate_data_downloader\\data\\raw\\gee\\NDVI\\NDVI_MODIS_2014-01-11.tif\n",
      "Generating URL ...\n",
      "Downloading data from https://earthengine.googleapis.com/v1/projects/699807344099/thumbnails/d03f303700ff0672ce7169a7d35d6b7b-b7b85a509038018df2d999e14d384042:getPixels\n",
      "Please wait ...\n",
      "Data downloaded to D:\\OneDrive - CGIAR\\Desktop\\climate_data_downloader\\data\\raw\\gee\\NDVI\\NDVI_MODIS_2014-01-12.tif\n",
      "✅ Descargado: D:\\OneDrive - CGIAR\\Desktop\\climate_data_downloader\\data\\raw\\gee\\NDVI\\NDVI_MODIS_2014-01-12.tif\n",
      "Generating URL ...\n",
      "Downloading data from https://earthengine.googleapis.com/v1/projects/699807344099/thumbnails/042dc40f7d7b02229d1daa5c830cb691-35f56ff707257f74973d5b8122f76b89:getPixels\n",
      "Please wait ...\n",
      "Data downloaded to D:\\OneDrive - CGIAR\\Desktop\\climate_data_downloader\\data\\raw\\gee\\NDVI\\NDVI_MODIS_2014-01-13.tif\n",
      "✅ Descargado: D:\\OneDrive - CGIAR\\Desktop\\climate_data_downloader\\data\\raw\\gee\\NDVI\\NDVI_MODIS_2014-01-13.tif\n",
      "Generating URL ...\n",
      "Downloading data from https://earthengine.googleapis.com/v1/projects/699807344099/thumbnails/2343b6aa7bd761740719d32d3c2edd8c-2b179edb1866aa79122d3c1c5710dbc4:getPixels\n",
      "Please wait ...\n",
      "Data downloaded to D:\\OneDrive - CGIAR\\Desktop\\climate_data_downloader\\data\\raw\\gee\\NDVI\\NDVI_MODIS_2014-01-14.tif\n",
      "✅ Descargado: D:\\OneDrive - CGIAR\\Desktop\\climate_data_downloader\\data\\raw\\gee\\NDVI\\NDVI_MODIS_2014-01-14.tif\n",
      "Generating URL ...\n",
      "Downloading data from https://earthengine.googleapis.com/v1/projects/699807344099/thumbnails/de90d254027711b4a3d15c57fcccb39d-c5a1b6018cea72186c47e84ecde2c0fb:getPixels\n",
      "Please wait ...\n",
      "Data downloaded to D:\\OneDrive - CGIAR\\Desktop\\climate_data_downloader\\data\\raw\\gee\\NDVI\\NDVI_MODIS_2014-01-15.tif\n",
      "✅ Descargado: D:\\OneDrive - CGIAR\\Desktop\\climate_data_downloader\\data\\raw\\gee\\NDVI\\NDVI_MODIS_2014-01-15.tif\n",
      "Generating URL ...\n",
      "Downloading data from https://earthengine.googleapis.com/v1/projects/699807344099/thumbnails/b08fe904c850290b74ab323f835dbc98-07a1b689ab795ce63f6e40e93c67c77b:getPixels\n",
      "Please wait ...\n",
      "Data downloaded to D:\\OneDrive - CGIAR\\Desktop\\climate_data_downloader\\data\\raw\\gee\\NDVI\\NDVI_MODIS_2014-01-16.tif\n",
      "✅ Descargado: D:\\OneDrive - CGIAR\\Desktop\\climate_data_downloader\\data\\raw\\gee\\NDVI\\NDVI_MODIS_2014-01-16.tif\n",
      "Generating URL ...\n",
      "Downloading data from https://earthengine.googleapis.com/v1/projects/699807344099/thumbnails/721a10db7871b2b8ffcade74e9c5dd3b-737127719d50f62ba465925d25fbaeca:getPixels\n",
      "Please wait ...\n",
      "Data downloaded to D:\\OneDrive - CGIAR\\Desktop\\climate_data_downloader\\data\\raw\\gee\\NDVI\\NDVI_MODIS_2014-01-17.tif\n",
      "✅ Descargado: D:\\OneDrive - CGIAR\\Desktop\\climate_data_downloader\\data\\raw\\gee\\NDVI\\NDVI_MODIS_2014-01-17.tif\n",
      "Generating URL ...\n",
      "Downloading data from https://earthengine.googleapis.com/v1/projects/699807344099/thumbnails/a44a702f48a33b812fc1a6fd238b5cac-318778d7b512f174c6c6b7337361e527:getPixels\n",
      "Please wait ...\n",
      "Data downloaded to D:\\OneDrive - CGIAR\\Desktop\\climate_data_downloader\\data\\raw\\gee\\NDVI\\NDVI_MODIS_2014-01-18.tif\n",
      "✅ Descargado: D:\\OneDrive - CGIAR\\Desktop\\climate_data_downloader\\data\\raw\\gee\\NDVI\\NDVI_MODIS_2014-01-18.tif\n",
      "Generating URL ...\n",
      "Downloading data from https://earthengine.googleapis.com/v1/projects/699807344099/thumbnails/1df25d96f177f97bd5cbd0c3a33c3cf8-73d4df3185cbe1465c440759e2a3072a:getPixels\n",
      "Please wait ...\n",
      "Data downloaded to D:\\OneDrive - CGIAR\\Desktop\\climate_data_downloader\\data\\raw\\gee\\NDVI\\NDVI_MODIS_2014-01-19.tif\n",
      "✅ Descargado: D:\\OneDrive - CGIAR\\Desktop\\climate_data_downloader\\data\\raw\\gee\\NDVI\\NDVI_MODIS_2014-01-19.tif\n",
      "Generating URL ...\n",
      "Downloading data from https://earthengine.googleapis.com/v1/projects/699807344099/thumbnails/2005dca4d5d16af3ec3dee47bc4aab05-04490f5130bee8f40fc7c199ba3bf07f:getPixels\n",
      "Please wait ...\n",
      "Data downloaded to D:\\OneDrive - CGIAR\\Desktop\\climate_data_downloader\\data\\raw\\gee\\NDVI\\NDVI_MODIS_2014-01-20.tif\n",
      "✅ Descargado: D:\\OneDrive - CGIAR\\Desktop\\climate_data_downloader\\data\\raw\\gee\\NDVI\\NDVI_MODIS_2014-01-20.tif\n",
      "Generating URL ...\n",
      "Downloading data from https://earthengine.googleapis.com/v1/projects/699807344099/thumbnails/3205136c98966394170e99bffa7c1496-6dfcd1271df31d0f542b592588b32aee:getPixels\n",
      "Please wait ...\n",
      "Data downloaded to D:\\OneDrive - CGIAR\\Desktop\\climate_data_downloader\\data\\raw\\gee\\NDVI\\NDVI_MODIS_2014-01-21.tif\n",
      "✅ Descargado: D:\\OneDrive - CGIAR\\Desktop\\climate_data_downloader\\data\\raw\\gee\\NDVI\\NDVI_MODIS_2014-01-21.tif\n",
      "Generating URL ...\n",
      "Downloading data from https://earthengine.googleapis.com/v1/projects/699807344099/thumbnails/f2aeff297fe882fae096a908cd17b843-d26a0b9987b00dbc2653a106197f1ac0:getPixels\n",
      "Please wait ...\n",
      "Data downloaded to D:\\OneDrive - CGIAR\\Desktop\\climate_data_downloader\\data\\raw\\gee\\NDVI\\NDVI_MODIS_2014-01-22.tif\n",
      "✅ Descargado: D:\\OneDrive - CGIAR\\Desktop\\climate_data_downloader\\data\\raw\\gee\\NDVI\\NDVI_MODIS_2014-01-22.tif\n",
      "Generating URL ...\n",
      "Downloading data from https://earthengine.googleapis.com/v1/projects/699807344099/thumbnails/a83cf7c4c8057a208e7e5f37fa4d588e-b2443a28b322a0805ee05f6ced3eebea:getPixels\n",
      "Please wait ...\n",
      "Data downloaded to D:\\OneDrive - CGIAR\\Desktop\\climate_data_downloader\\data\\raw\\gee\\NDVI\\NDVI_MODIS_2014-01-23.tif\n",
      "✅ Descargado: D:\\OneDrive - CGIAR\\Desktop\\climate_data_downloader\\data\\raw\\gee\\NDVI\\NDVI_MODIS_2014-01-23.tif\n",
      "Generating URL ...\n",
      "Downloading data from https://earthengine.googleapis.com/v1/projects/699807344099/thumbnails/938fd56fd331b5c0f422a3ca8606f900-87214076a031d376b5c5c163ac0f496f:getPixels\n",
      "Please wait ...\n",
      "Data downloaded to D:\\OneDrive - CGIAR\\Desktop\\climate_data_downloader\\data\\raw\\gee\\NDVI\\NDVI_MODIS_2014-01-24.tif\n",
      "✅ Descargado: D:\\OneDrive - CGIAR\\Desktop\\climate_data_downloader\\data\\raw\\gee\\NDVI\\NDVI_MODIS_2014-01-24.tif\n",
      "Generating URL ...\n",
      "Downloading data from https://earthengine.googleapis.com/v1/projects/699807344099/thumbnails/a7775119ae2bca46e18a82ab35729b1a-aff5c2e707110a7e182b229a272337b3:getPixels\n",
      "Please wait ...\n",
      "Data downloaded to D:\\OneDrive - CGIAR\\Desktop\\climate_data_downloader\\data\\raw\\gee\\NDVI\\NDVI_MODIS_2014-01-25.tif\n",
      "✅ Descargado: D:\\OneDrive - CGIAR\\Desktop\\climate_data_downloader\\data\\raw\\gee\\NDVI\\NDVI_MODIS_2014-01-25.tif\n",
      "Generating URL ...\n",
      "Downloading data from https://earthengine.googleapis.com/v1/projects/699807344099/thumbnails/51e13fd8e3110658fe5ce06d2828c29a-944929117d749e855ce72534ab2260c4:getPixels\n",
      "Please wait ...\n",
      "Data downloaded to D:\\OneDrive - CGIAR\\Desktop\\climate_data_downloader\\data\\raw\\gee\\NDVI\\NDVI_MODIS_2014-01-26.tif\n",
      "✅ Descargado: D:\\OneDrive - CGIAR\\Desktop\\climate_data_downloader\\data\\raw\\gee\\NDVI\\NDVI_MODIS_2014-01-26.tif\n",
      "Generating URL ...\n",
      "Downloading data from https://earthengine.googleapis.com/v1/projects/699807344099/thumbnails/2c4c516f0ccc18844a2fb2b136f7e4c5-8eb3935e13fb627afa399907be06b65f:getPixels\n",
      "Please wait ...\n",
      "Data downloaded to D:\\OneDrive - CGIAR\\Desktop\\climate_data_downloader\\data\\raw\\gee\\NDVI\\NDVI_MODIS_2014-01-27.tif\n",
      "✅ Descargado: D:\\OneDrive - CGIAR\\Desktop\\climate_data_downloader\\data\\raw\\gee\\NDVI\\NDVI_MODIS_2014-01-27.tif\n",
      "Generating URL ...\n",
      "Downloading data from https://earthengine.googleapis.com/v1/projects/699807344099/thumbnails/42f8d1b9eddfdbe477eb6a8e1deb9208-121db170837e33531163b9feed2f96a3:getPixels\n",
      "Please wait ...\n",
      "Data downloaded to D:\\OneDrive - CGIAR\\Desktop\\climate_data_downloader\\data\\raw\\gee\\NDVI\\NDVI_MODIS_2014-01-28.tif\n",
      "✅ Descargado: D:\\OneDrive - CGIAR\\Desktop\\climate_data_downloader\\data\\raw\\gee\\NDVI\\NDVI_MODIS_2014-01-28.tif\n",
      "Generating URL ...\n",
      "Downloading data from https://earthengine.googleapis.com/v1/projects/699807344099/thumbnails/d665072a6e34a57942683f9dc1013d5a-93ef6e1f4894bf3800b09568c96019f2:getPixels\n",
      "Please wait ...\n",
      "Data downloaded to D:\\OneDrive - CGIAR\\Desktop\\climate_data_downloader\\data\\raw\\gee\\NDVI\\NDVI_MODIS_2014-01-29.tif\n",
      "✅ Descargado: D:\\OneDrive - CGIAR\\Desktop\\climate_data_downloader\\data\\raw\\gee\\NDVI\\NDVI_MODIS_2014-01-29.tif\n",
      "Generating URL ...\n",
      "Downloading data from https://earthengine.googleapis.com/v1/projects/699807344099/thumbnails/6edc81f62c48a3ce5e20e6a0d2e16084-a14874c312c582f20d0edf2b4f07a999:getPixels\n",
      "Please wait ...\n",
      "Data downloaded to D:\\OneDrive - CGIAR\\Desktop\\climate_data_downloader\\data\\raw\\gee\\NDVI\\NDVI_MODIS_2014-01-30.tif\n",
      "✅ Descargado: D:\\OneDrive - CGIAR\\Desktop\\climate_data_downloader\\data\\raw\\gee\\NDVI\\NDVI_MODIS_2014-01-30.tif\n",
      "Generating URL ...\n",
      "Downloading data from https://earthengine.googleapis.com/v1/projects/699807344099/thumbnails/a82fadb91af0835850d38d71979a97cc-64eb249d14fee4a71692bbaf97172a4e:getPixels\n",
      "Please wait ...\n",
      "Data downloaded to D:\\OneDrive - CGIAR\\Desktop\\climate_data_downloader\\data\\raw\\gee\\NDVI\\NDVI_MODIS_2014-01-31.tif\n",
      "✅ Descargado: D:\\OneDrive - CGIAR\\Desktop\\climate_data_downloader\\data\\raw\\gee\\NDVI\\NDVI_MODIS_2014-01-31.tif\n",
      "Generating URL ...\n",
      "Downloading data from https://earthengine.googleapis.com/v1/projects/699807344099/thumbnails/960844470f80e8d7a83f2ddaa7736515-7f5b37d665ba8582eca5b05487eabd29:getPixels\n",
      "Please wait ...\n",
      "Data downloaded to D:\\OneDrive - CGIAR\\Desktop\\climate_data_downloader\\data\\raw\\gee\\NDVI\\NDVI_MODIS_2014-02-01.tif\n",
      "✅ Descargado: D:\\OneDrive - CGIAR\\Desktop\\climate_data_downloader\\data\\raw\\gee\\NDVI\\NDVI_MODIS_2014-02-01.tif\n",
      "Generating URL ...\n",
      "Downloading data from https://earthengine.googleapis.com/v1/projects/699807344099/thumbnails/d1a29bb83de3c69716d91bb1201c8f2d-740a6ed8524588370f62eaa87e2b1151:getPixels\n",
      "Please wait ...\n",
      "Data downloaded to D:\\OneDrive - CGIAR\\Desktop\\climate_data_downloader\\data\\raw\\gee\\NDVI\\NDVI_MODIS_2014-02-02.tif\n",
      "✅ Descargado: D:\\OneDrive - CGIAR\\Desktop\\climate_data_downloader\\data\\raw\\gee\\NDVI\\NDVI_MODIS_2014-02-02.tif\n",
      "Generating URL ...\n",
      "Downloading data from https://earthengine.googleapis.com/v1/projects/699807344099/thumbnails/e15d8e972929390da99e03e5b2c13626-57f431ef5a22083c179ef982ad340ca9:getPixels\n",
      "Please wait ...\n",
      "Data downloaded to D:\\OneDrive - CGIAR\\Desktop\\climate_data_downloader\\data\\raw\\gee\\NDVI\\NDVI_MODIS_2014-02-03.tif\n",
      "✅ Descargado: D:\\OneDrive - CGIAR\\Desktop\\climate_data_downloader\\data\\raw\\gee\\NDVI\\NDVI_MODIS_2014-02-03.tif\n",
      "Generating URL ...\n",
      "Downloading data from https://earthengine.googleapis.com/v1/projects/699807344099/thumbnails/8dbd0caa981ba90253e33d9e31606937-fbabc36ae63d303e3ad411632617b196:getPixels\n",
      "Please wait ...\n",
      "Data downloaded to D:\\OneDrive - CGIAR\\Desktop\\climate_data_downloader\\data\\raw\\gee\\NDVI\\NDVI_MODIS_2014-02-04.tif\n",
      "✅ Descargado: D:\\OneDrive - CGIAR\\Desktop\\climate_data_downloader\\data\\raw\\gee\\NDVI\\NDVI_MODIS_2014-02-04.tif\n",
      "✅ Descarga de NDVI diario completada.\n"
     ]
    }
   ],
   "source": [
    "from download.gee import descargar_ndvi_modis\n",
    "\n",
    "# 📥 Descarga de NDVI MODIS para el Valle del Cauca\n",
    "print(\"🌱 Iniciando descarga de NDVI desde MODIS...\")\n",
    "print(f\"🗓️ Rango de fechas: {fecha_inicio.strftime('%Y-%m-%d')} a {fecha_fin.strftime('%Y-%m-%d')}\")\n",
    "print(f\"📍 Shapefile AOI: {shapefile_valle}\")\n",
    "print(f\"📁 Carpeta de salida: {RAW_GEE_VARS['NDVI']}\")\n",
    "\n",
    "descargar_ndvi_modis(\n",
    "    fecha_inicio=fecha_inicio.strftime(\"%Y-%m-%d\"),\n",
    "    fecha_fin=fecha_fin.strftime(\"%Y-%m-%d\"),\n",
    "    shapefile_path=str(shapefile_valle),\n",
    "    output_folder=str(RAW_GEE_VARS[\"NDVI\"])\n",
    ")"
   ]
  }
 ],
 "metadata": {
  "kernelspec": {
   "display_name": "Python 3",
   "language": "python",
   "name": "python3"
  },
  "language_info": {
   "codemirror_mode": {
    "name": "ipython",
    "version": 3
   },
   "file_extension": ".py",
   "mimetype": "text/x-python",
   "name": "python",
   "nbconvert_exporter": "python",
   "pygments_lexer": "ipython3",
   "version": "3.11.9"
  }
 },
 "nbformat": 4,
 "nbformat_minor": 5
}
