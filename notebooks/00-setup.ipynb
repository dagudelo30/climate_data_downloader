{
 "cells": [
  {
   "cell_type": "markdown",
   "id": "262d5cab",
   "metadata": {},
   "source": [
    "# 🔧 Inicialización del entorno y estructura de carpetas\n",
    "\n",
    "Esta celda configura el entorno base del proyecto:\n",
    "\n",
    "- Añade la ruta raíz del proyecto a `sys.path`\n",
    "- Instala los paquetes desde `requirements.txt` (si existe)\n",
    "- Crea automáticamente las carpetas necesarias para organizar los datos:\n",
    "  - `data/raw/[fuente]`\n",
    "  - `data/interim/[fuente]`\n",
    "  - `data/processed/[fuente]`\n",
    "\n",
    "Estas rutas están organizadas por fuente de datos (CHIRPS, Copernicus, GEE(Google Earth Engine)) y se usarán durante todo el flujo."
   ]
  },
  {
   "cell_type": "code",
   "execution_count": 12,
   "id": "6e5eff7a",
   "metadata": {},
   "outputs": [
    {
     "name": "stdout",
     "output_type": "stream",
     "text": [
      "Ruta base del proyecto agregada a sys.path: D:\\OneDrive - CGIAR\\Desktop\\climate_data_downloader\n",
      "📁 Carpeta creada/verificada: D:\\OneDrive - CGIAR\\Desktop\\climate_data_downloader\\data\\raw\\chirps\n",
      "📁 Carpeta creada/verificada: D:\\OneDrive - CGIAR\\Desktop\\climate_data_downloader\\data\\raw\\copernicus\n",
      "📁 Carpeta creada/verificada: D:\\OneDrive - CGIAR\\Desktop\\climate_data_downloader\\data\\raw\\gee\n",
      "📁 Carpeta creada/verificada: D:\\OneDrive - CGIAR\\Desktop\\climate_data_downloader\\data\\interim\\chirps\n",
      "📁 Carpeta creada/verificada: D:\\OneDrive - CGIAR\\Desktop\\climate_data_downloader\\data\\interim\\copernicus\n",
      "📁 Carpeta creada/verificada: D:\\OneDrive - CGIAR\\Desktop\\climate_data_downloader\\data\\interim\\gee\n",
      "📁 Carpeta creada/verificada: D:\\OneDrive - CGIAR\\Desktop\\climate_data_downloader\\data\\processed\\chirps\n",
      "📁 Carpeta creada/verificada: D:\\OneDrive - CGIAR\\Desktop\\climate_data_downloader\\data\\processed\\copernicus\n",
      "📁 Carpeta creada/verificada: D:\\OneDrive - CGIAR\\Desktop\\climate_data_downloader\\data\\processed\\gee\n",
      "📦 Instalando dependencias desde: D:\\OneDrive - CGIAR\\Desktop\\climate_data_downloader\\requirements.txt\n"
     ]
    }
   ],
   "source": [
    "import subprocess\n",
    "import sys\n",
    "from pathlib import Path\n",
    "from datetime import date, timedelta\n",
    "\n",
    "# Ruta base: carpeta raíz del proyecto (2 niveles arriba del notebook)\n",
    "ruta_base = Path.cwd().parent.resolve()\n",
    "sys.path.append(str(ruta_base))\n",
    "\n",
    "# Confirmar que el path es correcto\n",
    "print(f\"Ruta base del proyecto agregada a sys.path: {ruta_base}\")\n",
    "\n",
    "# Crear subcarpetas organizadas por fuente\n",
    "fuentes = [\"chirps\", \"copernicus\", \"gee\"]\n",
    "etapas = [\"raw\", \"interim\", \"processed\"]\n",
    "\n",
    "for etapa in etapas:\n",
    "    for fuente in fuentes:\n",
    "        carpeta = ruta_base / \"data\" / etapa / fuente\n",
    "        carpeta.mkdir(parents=True, exist_ok=True)\n",
    "        print(f\"📁 Carpeta creada/verificada: {carpeta}\")\n",
    "\n",
    "# Definir rutas útiles para todo el notebook\n",
    "RAW_CHIRPS = ruta_base / \"data\" / \"raw\" / \"chirps\"\n",
    "RAW_COPERNICUS = ruta_base / \"data\" / \"raw\" / \"copernicus\"\n",
    "RAW_GEE = ruta_base / \"data\" / \"raw\" / \"gee\"\n",
    "\n",
    "INTERIM_CHIRPS = ruta_base / \"data\" / \"interim\" / \"chirps\"\n",
    "INTERIM_COPERNICUS = ruta_base / \"data\" / \"interim\" / \"copernicus\"\n",
    "INTERIM_GEE = ruta_base / \"data\" / \"interim\" / \"gee\"\n",
    "\n",
    "PROCESSED_CHIRPS = ruta_base / \"data\" / \"processed\" / \"chirps\"\n",
    "PROCESSED_COPERNICUS = ruta_base / \"data\" / \"processed\" / \"copernicus\"\n",
    "PROCESSED_GEE = ruta_base / \"data\" / \"processed\" / \"gee\"\n",
    "\n",
    "# Instalación de requirements \n",
    "req_path = ruta_base / \"requirements.txt\"\n",
    "if req_path.exists():\n",
    "    print(f\"📦 Instalando dependencias desde: {req_path}\")\n",
    "    subprocess.check_call([sys.executable, \"-m\", \"pip\", \"install\", \"-r\", str(req_path)])\n",
    "else:\n",
    "    print(\"⚠️ No se encontró requirements.txt. Asegúrate de tener las dependencias instaladas.\")\n"
   ]
  }
 ],
 "metadata": {
  "kernelspec": {
   "display_name": "Python 3",
   "language": "python",
   "name": "python3"
  },
  "language_info": {
   "codemirror_mode": {
    "name": "ipython",
    "version": 3
   },
   "file_extension": ".py",
   "mimetype": "text/x-python",
   "name": "python",
   "nbconvert_exporter": "python",
   "pygments_lexer": "ipython3",
   "version": "3.11.9"
  }
 },
 "nbformat": 4,
 "nbformat_minor": 5
}
